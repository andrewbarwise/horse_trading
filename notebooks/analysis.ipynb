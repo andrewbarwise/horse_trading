{
 "cells": [
  {
   "cell_type": "code",
   "execution_count": 1,
   "metadata": {},
   "outputs": [],
   "source": [
    "from sklearn.decomposition import PCA \n",
    "from sklearn.preprocessing import StandardScaler\n",
    "from sklearn.ensemble import RandomForestClassifier\n",
    "\n",
    "import matplotlib.pyplot as plt\n",
    "\n",
    "import numpy as np\n",
    "\n",
    "import pandas as pd\n",
    "\n",
    "from src.functions import *"
   ]
  },
  {
   "cell_type": "code",
   "execution_count": 2,
   "metadata": {},
   "outputs": [
    {
     "name": "stdout",
     "output_type": "stream",
     "text": [
      "Connected to the database\n",
      "Disconnected from the database\n"
     ]
    },
    {
     "data": {
      "text/html": [
       "<div>\n",
       "<style scoped>\n",
       "    .dataframe tbody tr th:only-of-type {\n",
       "        vertical-align: middle;\n",
       "    }\n",
       "\n",
       "    .dataframe tbody tr th {\n",
       "        vertical-align: top;\n",
       "    }\n",
       "\n",
       "    .dataframe thead th {\n",
       "        text-align: right;\n",
       "    }\n",
       "</style>\n",
       "<table border=\"1\" class=\"dataframe\">\n",
       "  <thead>\n",
       "    <tr style=\"text-align: right;\">\n",
       "      <th></th>\n",
       "      <th>Race Time</th>\n",
       "      <th>Course</th>\n",
       "      <th>Distance (y)</th>\n",
       "      <th>Draw</th>\n",
       "      <th>Weight Rank</th>\n",
       "      <th>Breakfast Price</th>\n",
       "      <th>Morning Price</th>\n",
       "      <th>SP Odds Decimal</th>\n",
       "      <th>Won (1=Won, 0=Lost)</th>\n",
       "      <th>Place (1=Placed, 0=UnPlaced)</th>\n",
       "      <th>Trainer/Jky Stats Rank</th>\n",
       "      <th>WON SR Before</th>\n",
       "      <th>Position LTO</th>\n",
       "      <th>Horse Stats Rank</th>\n",
       "      <th>Proform Speed Rating</th>\n",
       "      <th>WON SR Before_[0]</th>\n",
       "      <th>unique_id</th>\n",
       "      <th>unique_id_int</th>\n",
       "    </tr>\n",
       "  </thead>\n",
       "  <tbody>\n",
       "    <tr>\n",
       "      <th>0</th>\n",
       "      <td>2020-10-02 13:55:00</td>\n",
       "      <td>Ascot</td>\n",
       "      <td>1760</td>\n",
       "      <td>1</td>\n",
       "      <td>1</td>\n",
       "      <td>6.5</td>\n",
       "      <td>7.5</td>\n",
       "      <td>19.00</td>\n",
       "      <td>0</td>\n",
       "      <td>0</td>\n",
       "      <td>6</td>\n",
       "      <td>21.88</td>\n",
       "      <td>1.0</td>\n",
       "      <td>3</td>\n",
       "      <td>63</td>\n",
       "      <td>21.88</td>\n",
       "      <td>2020-10-02 13:55:00_Ascot</td>\n",
       "      <td>16</td>\n",
       "    </tr>\n",
       "    <tr>\n",
       "      <th>1</th>\n",
       "      <td>2020-10-02 13:55:00</td>\n",
       "      <td>Ascot</td>\n",
       "      <td>1760</td>\n",
       "      <td>2</td>\n",
       "      <td>1</td>\n",
       "      <td>5.0</td>\n",
       "      <td>6.5</td>\n",
       "      <td>6.00</td>\n",
       "      <td>0</td>\n",
       "      <td>0</td>\n",
       "      <td>5</td>\n",
       "      <td>7.69</td>\n",
       "      <td>4.0</td>\n",
       "      <td>5</td>\n",
       "      <td>62</td>\n",
       "      <td>7.69</td>\n",
       "      <td>2020-10-02 13:55:00_Ascot</td>\n",
       "      <td>16</td>\n",
       "    </tr>\n",
       "    <tr>\n",
       "      <th>2</th>\n",
       "      <td>2020-10-02 13:55:00</td>\n",
       "      <td>Ascot</td>\n",
       "      <td>1760</td>\n",
       "      <td>6</td>\n",
       "      <td>1</td>\n",
       "      <td>11.0</td>\n",
       "      <td>15.0</td>\n",
       "      <td>19.00</td>\n",
       "      <td>0</td>\n",
       "      <td>0</td>\n",
       "      <td>1</td>\n",
       "      <td>25.00</td>\n",
       "      <td>8.0</td>\n",
       "      <td>2</td>\n",
       "      <td>49</td>\n",
       "      <td>25.00</td>\n",
       "      <td>2020-10-02 13:55:00_Ascot</td>\n",
       "      <td>16</td>\n",
       "    </tr>\n",
       "    <tr>\n",
       "      <th>3</th>\n",
       "      <td>2020-10-02 13:55:00</td>\n",
       "      <td>Ascot</td>\n",
       "      <td>1760</td>\n",
       "      <td>5</td>\n",
       "      <td>1</td>\n",
       "      <td>4.5</td>\n",
       "      <td>4.5</td>\n",
       "      <td>3.75</td>\n",
       "      <td>0</td>\n",
       "      <td>0</td>\n",
       "      <td>3</td>\n",
       "      <td>0.00</td>\n",
       "      <td>14.0</td>\n",
       "      <td>6</td>\n",
       "      <td>60</td>\n",
       "      <td>0.00</td>\n",
       "      <td>2020-10-02 13:55:00_Ascot</td>\n",
       "      <td>16</td>\n",
       "    </tr>\n",
       "    <tr>\n",
       "      <th>4</th>\n",
       "      <td>2020-10-02 13:55:00</td>\n",
       "      <td>Ascot</td>\n",
       "      <td>1760</td>\n",
       "      <td>3</td>\n",
       "      <td>5</td>\n",
       "      <td>6.5</td>\n",
       "      <td>5.0</td>\n",
       "      <td>4.00</td>\n",
       "      <td>0</td>\n",
       "      <td>1</td>\n",
       "      <td>4</td>\n",
       "      <td>33.33</td>\n",
       "      <td>3.0</td>\n",
       "      <td>4</td>\n",
       "      <td>68</td>\n",
       "      <td>33.33</td>\n",
       "      <td>2020-10-02 13:55:00_Ascot</td>\n",
       "      <td>16</td>\n",
       "    </tr>\n",
       "  </tbody>\n",
       "</table>\n",
       "</div>"
      ],
      "text/plain": [
       "             Race Time Course  Distance (y)  Draw  Weight Rank  \\\n",
       "0  2020-10-02 13:55:00  Ascot          1760     1            1   \n",
       "1  2020-10-02 13:55:00  Ascot          1760     2            1   \n",
       "2  2020-10-02 13:55:00  Ascot          1760     6            1   \n",
       "3  2020-10-02 13:55:00  Ascot          1760     5            1   \n",
       "4  2020-10-02 13:55:00  Ascot          1760     3            5   \n",
       "\n",
       "   Breakfast Price  Morning Price  SP Odds Decimal  Won (1=Won, 0=Lost)  \\\n",
       "0              6.5            7.5            19.00                    0   \n",
       "1              5.0            6.5             6.00                    0   \n",
       "2             11.0           15.0            19.00                    0   \n",
       "3              4.5            4.5             3.75                    0   \n",
       "4              6.5            5.0             4.00                    0   \n",
       "\n",
       "   Place (1=Placed, 0=UnPlaced)  Trainer/Jky Stats Rank  WON SR Before  \\\n",
       "0                             0                       6          21.88   \n",
       "1                             0                       5           7.69   \n",
       "2                             0                       1          25.00   \n",
       "3                             0                       3           0.00   \n",
       "4                             1                       4          33.33   \n",
       "\n",
       "   Position LTO  Horse Stats Rank  Proform Speed Rating  WON SR Before_[0]  \\\n",
       "0           1.0                 3                    63              21.88   \n",
       "1           4.0                 5                    62               7.69   \n",
       "2           8.0                 2                    49              25.00   \n",
       "3          14.0                 6                    60               0.00   \n",
       "4           3.0                 4                    68              33.33   \n",
       "\n",
       "                   unique_id  unique_id_int  \n",
       "0  2020-10-02 13:55:00_Ascot             16  \n",
       "1  2020-10-02 13:55:00_Ascot             16  \n",
       "2  2020-10-02 13:55:00_Ascot             16  \n",
       "3  2020-10-02 13:55:00_Ascot             16  \n",
       "4  2020-10-02 13:55:00_Ascot             16  "
      ]
     },
     "execution_count": 2,
     "metadata": {},
     "output_type": "execute_result"
    }
   ],
   "source": [
    "from src.db_connection import DatabaseConnector\n",
    "\n",
    "db_connector = DatabaseConnector('horse')\n",
    "\n",
    "db_connector.connect()\n",
    "\n",
    "query = \"select * from df1 where Course = 'Ascot'\"\n",
    "\n",
    "df = db_connector.fetch_data(query)\n",
    "\n",
    "db_connector.disconnect()\n",
    "\n",
    "df.head()"
   ]
  },
  {
   "cell_type": "code",
   "execution_count": 3,
   "metadata": {},
   "outputs": [],
   "source": [
    "features = df[['Draw', 'Weight Rank', 'SP Odds Decimal', \n",
    "               'Trainer/Jky Stats Rank', 'WON SR Before', 'Position LTO', 'Horse Stats Rank', 'Proform Speed Rating']]"
   ]
  },
  {
   "cell_type": "code",
   "execution_count": 4,
   "metadata": {},
   "outputs": [],
   "source": [
    "scaler = StandardScaler()\n",
    "scaled_features = scaler.fit_transform(features)"
   ]
  },
  {
   "cell_type": "code",
   "execution_count": 5,
   "metadata": {},
   "outputs": [],
   "source": [
    "n_components = 5\n",
    "\n",
    "pca = PCA(n_components=n_components)\n",
    "pca_result = pca.fit_transform(scaled_features)"
   ]
  },
  {
   "cell_type": "code",
   "execution_count": 6,
   "metadata": {},
   "outputs": [],
   "source": [
    "explained_variance = pca.explained_variance_ratio_"
   ]
  },
  {
   "cell_type": "code",
   "execution_count": 7,
   "metadata": {},
   "outputs": [],
   "source": [
    "cum_explained_var = explained_variance.cumsum()"
   ]
  },
  {
   "cell_type": "code",
   "execution_count": 8,
   "metadata": {},
   "outputs": [
    {
     "data": {
      "image/png": "[encoded data removed]",
      "text/plain": [
       "<Figure size 1000x600 with 1 Axes>"
      ]
     },
     "metadata": {},
     "output_type": "display_data"
    }
   ],
   "source": [
    "plt.figure(figsize=(10,6))\n",
    "plt.plot(range(1, n_components + 1), cum_explained_var, marker = 'o', linestyle='--')\n",
    "plt.xlabel('Number of Components')\n",
    "plt.ylabel('Cumulative Explained Variance')\n",
    "plt.title('Cumulative Explained Varince by Number of Components')\n",
    "plt.grid(True)\n",
    "plt.show()"
   ]
  },
  {
   "cell_type": "code",
   "execution_count": 9,
   "metadata": {},
   "outputs": [],
   "source": [
    "components = pca.components_\n",
    "\n",
    "components_df = pd.DataFrame(components, columns = features.columns)"
   ]
  },
  {
   "cell_type": "code",
   "execution_count": 10,
   "metadata": {},
   "outputs": [
    {
     "data": {
      "image/png": "[encoded data removed]",
      "text/plain": [
       "<Figure size 1200x600 with 2 Axes>"
      ]
     },
     "metadata": {},
     "output_type": "display_data"
    }
   ],
   "source": [
    "plt.figure(figsize = (12,6))\n",
    "plt.imshow(components_df, cmap='viridis', aspect = 'auto')\n",
    "plt.colorbar(label='Component Weight')\n",
    "plt.xlabel('Original Features')\n",
    "plt.ylabel('Principal Components')\n",
    "plt.title('Weights of Original Features in Principal Components')\n",
    "plt.xticks(ticks=range(len(features.columns)), labels=features.columns, rotation=90)\n",
    "plt.show()"
   ]
  },
  {
   "cell_type": "code",
   "execution_count": 11,
   "metadata": {},
   "outputs": [],
   "source": [
    "train_data, test_data = split_data(df, 'unique_id_int', test_size=0.2)\n",
    "\n",
    "# Extract features and target variable for training and testing sets\n",
    "train_features = train_data[['Draw', 'Weight Rank', 'SP Odds Decimal', \n",
    "               'Trainer/Jky Stats Rank', 'WON SR Before', 'Position LTO', 'Horse Stats Rank', 'Proform Speed Rating']]\n",
    "\n",
    "train_target = train_data['Won (1=Won, 0=Lost)']\n",
    "\n",
    "test_features = test_data[['Draw', 'Weight Rank', 'SP Odds Decimal', \n",
    "               'Trainer/Jky Stats Rank', 'WON SR Before', 'Position LTO', 'Horse Stats Rank', 'Proform Speed Rating']]\n",
    "\n",
    "test_target = test_data['Won (1=Won, 0=Lost)']\n",
    "\n",
    "# Initialize StandardScaler()\n",
    "scaler = StandardScaler()\n",
    "\n",
    "# Fit and and transform\n",
    "scaled_train_features = scaler.fit_transform(train_features)\n",
    "scaled_test_features = scaler.transform(test_features)"
   ]
  },
  {
   "cell_type": "code",
   "execution_count": 12,
   "metadata": {},
   "outputs": [
    {
     "name": "stdout",
     "output_type": "stream",
     "text": [
      "1390\n",
      "1390\n"
     ]
    }
   ],
   "source": [
    "print(len(train_target))\n",
    "\n",
    "print(len(scaled_train_features))"
   ]
  },
  {
   "cell_type": "code",
   "execution_count": 16,
   "metadata": {},
   "outputs": [
    {
     "name": "stdout",
     "output_type": "stream",
     "text": [
      "Accuracy: 0.8896321070234113\n",
      "Precision: 0.25\n",
      "Recall: 0.03225806451612903\n",
      "F1 score: 0.05714285714285715\n",
      "ROC AUC score: 0.5105320173326914\n"
     ]
    }
   ],
   "source": [
    "# Apply PCA to the standardized data\n",
    "run_name = 'rf_loop_pca_'\n",
    "with mlflow.start_run(run_name=run_name):\n",
    "\n",
    "    pca = PCA(n_components=6)  # Choose the number of components to retain\n",
    "    \n",
    "    X_train_pca = pca.fit_transform(scaled_train_features)\n",
    "    X_test_pca = pca.transform(scaled_test_features)\n",
    "\n",
    "    clf = RandomForestClassifier(n_estimators=50, random_state=42)\n",
    "\n",
    "    # Train the model using the training data\n",
    "    clf.fit(X_train_pca, train_target)\n",
    "\n",
    "    # Make predictions on the test set\n",
    "    predictions = clf.predict(X_test_pca)\n",
    "\n",
    "    # Evaluate the model\n",
    "    eval_print_log(test_target, predictions)\n",
    "\n",
    "    mlflow.end_run()"
   ]
  },
  {
   "cell_type": "code",
   "execution_count": 14,
   "metadata": {},
   "outputs": [
    {
     "name": "stdout",
     "output_type": "stream",
     "text": [
      "Feature Importance after PCA:\n",
      "Proform Speed Rating      0.379875\n",
      "Position LTO              0.359936\n",
      "WON SR Before             0.327025\n",
      "SP Odds Decimal           0.293535\n",
      "Draw                      0.286162\n",
      "Trainer/Jky Stats Rank    0.237191\n",
      "Weight Rank               0.236756\n",
      "Horse Stats Rank          0.198539\n",
      "dtype: float64\n"
     ]
    }
   ],
   "source": [
    "# Assuming 'pca' is your fitted PCA model\n",
    "\n",
    "# Get the principal components\n",
    "components = pca.components_\n",
    "\n",
    "# Create a DataFrame to associate each original feature with its weights in each component\n",
    "components_df = pd.DataFrame(components, columns=features.columns)\n",
    "\n",
    "# Calculate the absolute values of the weights\n",
    "abs_components_df = np.abs(components_df)\n",
    "\n",
    "# Get the average importance of each original feature across all components\n",
    "average_feature_importance = abs_components_df.mean()\n",
    "\n",
    "# Sort features by their average importance\n",
    "sorted_feature_importance = average_feature_importance.sort_values(ascending=False)\n",
    "\n",
    "# Display the feature importance\n",
    "print(\"Feature Importance after PCA:\")\n",
    "print(sorted_feature_importance)\n"
   ]
  },
  {
   "cell_type": "code",
   "execution_count": 15,
   "metadata": {},
   "outputs": [
    {
     "data": {
      "text/html": [
       "<div>\n",
       "<style scoped>\n",
       "    .dataframe tbody tr th:only-of-type {\n",
       "        vertical-align: middle;\n",
       "    }\n",
       "\n",
       "    .dataframe tbody tr th {\n",
       "        vertical-align: top;\n",
       "    }\n",
       "\n",
       "    .dataframe thead th {\n",
       "        text-align: right;\n",
       "    }\n",
       "</style>\n",
       "<table border=\"1\" class=\"dataframe\">\n",
       "  <thead>\n",
       "    <tr style=\"text-align: right;\">\n",
       "      <th></th>\n",
       "      <th>Draw</th>\n",
       "      <th>Weight Rank</th>\n",
       "      <th>SP Odds Decimal</th>\n",
       "      <th>Trainer/Jky Stats Rank</th>\n",
       "      <th>WON SR Before</th>\n",
       "      <th>Position LTO</th>\n",
       "      <th>Horse Stats Rank</th>\n",
       "      <th>Proform Speed Rating</th>\n",
       "    </tr>\n",
       "  </thead>\n",
       "  <tbody>\n",
       "    <tr>\n",
       "      <th>0</th>\n",
       "      <td>0.384218</td>\n",
       "      <td>0.407757</td>\n",
       "      <td>0.389447</td>\n",
       "      <td>0.484199</td>\n",
       "      <td>-0.203153</td>\n",
       "      <td>0.036575</td>\n",
       "      <td>0.496370</td>\n",
       "      <td>-0.104887</td>\n",
       "    </tr>\n",
       "    <tr>\n",
       "      <th>1</th>\n",
       "      <td>-0.424264</td>\n",
       "      <td>-0.162831</td>\n",
       "      <td>0.312856</td>\n",
       "      <td>-0.160832</td>\n",
       "      <td>-0.568881</td>\n",
       "      <td>0.242452</td>\n",
       "      <td>0.009645</td>\n",
       "      <td>-0.535947</td>\n",
       "    </tr>\n",
       "    <tr>\n",
       "      <th>2</th>\n",
       "      <td>-0.050004</td>\n",
       "      <td>0.139679</td>\n",
       "      <td>-0.178300</td>\n",
       "      <td>-0.066542</td>\n",
       "      <td>-0.209040</td>\n",
       "      <td>0.800783</td>\n",
       "      <td>0.089604</td>\n",
       "      <td>0.498790</td>\n",
       "    </tr>\n",
       "  </tbody>\n",
       "</table>\n",
       "</div>"
      ],
      "text/plain": [
       "       Draw  Weight Rank  SP Odds Decimal  Trainer/Jky Stats Rank  \\\n",
       "0  0.384218     0.407757         0.389447                0.484199   \n",
       "1 -0.424264    -0.162831         0.312856               -0.160832   \n",
       "2 -0.050004     0.139679        -0.178300               -0.066542   \n",
       "\n",
       "   WON SR Before  Position LTO  Horse Stats Rank  Proform Speed Rating  \n",
       "0      -0.203153      0.036575          0.496370             -0.104887  \n",
       "1      -0.568881      0.242452          0.009645             -0.535947  \n",
       "2      -0.209040      0.800783          0.089604              0.498790  "
      ]
     },
     "execution_count": 15,
     "metadata": {},
     "output_type": "execute_result"
    }
   ],
   "source": [
    "components_df"
   ]
  },
  {
   "cell_type": "code",
   "execution_count": 17,
   "metadata": {},
   "outputs": [],
   "source": [
    "# utilising SelectKBest\n",
    "from sklearn.feature_selection import SelectKBest, chi2\n",
    "\n",
    "# Instantiate SelectKBest with a specific scoring function (e.g., chi-squared)\n",
    "selector = SelectKBest(score_func=chi2, k=5)  # Select top 5 features using chi-squared test\n",
    "\n",
    "# Fit-transform on training data\n",
    "X_train_selected = selector.fit_transform(train_features, train_target)\n",
    "\n",
    "# Transform test data based on the features selected in training\n",
    "X_test_selected = selector.transform(test_features)\n",
    "\n"
   ]
  },
  {
   "cell_type": "code",
   "execution_count": 20,
   "metadata": {},
   "outputs": [
    {
     "name": "stdout",
     "output_type": "stream",
     "text": [
      "Selected Feature Names:\n",
      "Index(['SP Odds Decimal', 'Trainer/Jky Stats Rank', 'WON SR Before',\n",
      "       'Horse Stats Rank', 'Proform Speed Rating'],\n",
      "      dtype='object')\n",
      "Scores of Selected Features:\n",
      "[1408.9857918    87.42031761  119.26896854   89.46009755  115.62740495]\n"
     ]
    }
   ],
   "source": [
    "# Get selected feature indices\n",
    "selected_indices = selector.get_support(indices=True)\n",
    "\n",
    "# Get original feature names\n",
    "original_feature_names = train_features.columns  # Assuming X is your DataFrame or array with original features\n",
    "\n",
    "# Get selected feature names\n",
    "selected_feature_names = original_feature_names[selected_indices]\n",
    "\n",
    "# Print selected feature names\n",
    "print(\"Selected Feature Names:\")\n",
    "print(selected_feature_names)\n",
    "\n",
    "# If you're using a specific scoring function like chi2, you might not get coefficients directly.\n",
    "# However, if using mutual_info_classif, f_classif, or similar, you might get scores/importances\n",
    "\n",
    "# Retrieve scores/importances (if applicable)\n",
    "feature_scores = selector.scores_  # Retrieves the scores of features based on the selected scoring function\n",
    "\n",
    "# Print scores/importances of selected features\n",
    "print(\"Scores of Selected Features:\")\n",
    "print(feature_scores[selected_indices])\n"
   ]
  }
 ],
 "metadata": {
  "kernelspec": {
   "display_name": "horse_trading",
   "language": "python",
   "name": "python3"
  },
  "language_info": {
   "codemirror_mode": {
    "name": "ipython",
    "version": 3
   },
   "file_extension": ".py",
   "mimetype": "text/x-python",
   "name": "python",
   "nbconvert_exporter": "python",
   "pygments_lexer": "ipython3",
   "version": "3.11.6"
  }
 },
 "nbformat": 4,
 "nbformat_minor": 2
}
