{
 "cells": [
  {
   "cell_type": "code",
   "execution_count": 9,
   "metadata": {},
   "outputs": [],
   "source": [
    "import mlflow\n",
    "from sklearn.ensemble import RandomForestClassifier\n",
    "from sklearn.preprocessing import StandardScaler\n",
    "from sklearn.linear_model import LogisticRegression\n",
    "from sklearn.model_selection import GridSearchCV\n",
    "import pandas as pd\n",
    "import xgboost as xgb\n",
    "\n",
    "from src.functions import *"
   ]
  },
  {
   "cell_type": "code",
   "execution_count": 2,
   "metadata": {},
   "outputs": [
    {
     "name": "stdout",
     "output_type": "stream",
     "text": [
      "Connected to the database\n",
      "Disconnected from the database\n"
     ]
    },
    {
     "data": {
      "text/html": [
       "<div>\n",
       "<style scoped>\n",
       "    .dataframe tbody tr th:only-of-type {\n",
       "        vertical-align: middle;\n",
       "    }\n",
       "\n",
       "    .dataframe tbody tr th {\n",
       "        vertical-align: top;\n",
       "    }\n",
       "\n",
       "    .dataframe thead th {\n",
       "        text-align: right;\n",
       "    }\n",
       "</style>\n",
       "<table border=\"1\" class=\"dataframe\">\n",
       "  <thead>\n",
       "    <tr style=\"text-align: right;\">\n",
       "      <th></th>\n",
       "      <th>Race Time</th>\n",
       "      <th>Course</th>\n",
       "      <th>Distance (y)</th>\n",
       "      <th>Draw</th>\n",
       "      <th>Weight Rank</th>\n",
       "      <th>Breakfast Price</th>\n",
       "      <th>Morning Price</th>\n",
       "      <th>SP Odds Decimal</th>\n",
       "      <th>Won (1=Won, 0=Lost)</th>\n",
       "      <th>Place (1=Placed, 0=UnPlaced)</th>\n",
       "      <th>Trainer/Jky Stats Rank</th>\n",
       "      <th>WON SR Before</th>\n",
       "      <th>Position LTO</th>\n",
       "      <th>Horse Stats Rank</th>\n",
       "      <th>Proform Speed Rating</th>\n",
       "      <th>WON SR Before_[0]</th>\n",
       "      <th>unique_id</th>\n",
       "      <th>unique_id_int</th>\n",
       "    </tr>\n",
       "  </thead>\n",
       "  <tbody>\n",
       "    <tr>\n",
       "      <th>0</th>\n",
       "      <td>2020-10-02 13:55:00</td>\n",
       "      <td>Ascot</td>\n",
       "      <td>1760</td>\n",
       "      <td>1</td>\n",
       "      <td>1</td>\n",
       "      <td>6.5</td>\n",
       "      <td>7.5</td>\n",
       "      <td>19.00</td>\n",
       "      <td>0</td>\n",
       "      <td>0</td>\n",
       "      <td>6</td>\n",
       "      <td>21.88</td>\n",
       "      <td>1.0</td>\n",
       "      <td>3</td>\n",
       "      <td>63</td>\n",
       "      <td>21.88</td>\n",
       "      <td>2020-10-02 13:55:00_Ascot</td>\n",
       "      <td>16</td>\n",
       "    </tr>\n",
       "    <tr>\n",
       "      <th>1</th>\n",
       "      <td>2020-10-02 13:55:00</td>\n",
       "      <td>Ascot</td>\n",
       "      <td>1760</td>\n",
       "      <td>2</td>\n",
       "      <td>1</td>\n",
       "      <td>5.0</td>\n",
       "      <td>6.5</td>\n",
       "      <td>6.00</td>\n",
       "      <td>0</td>\n",
       "      <td>0</td>\n",
       "      <td>5</td>\n",
       "      <td>7.69</td>\n",
       "      <td>4.0</td>\n",
       "      <td>5</td>\n",
       "      <td>62</td>\n",
       "      <td>7.69</td>\n",
       "      <td>2020-10-02 13:55:00_Ascot</td>\n",
       "      <td>16</td>\n",
       "    </tr>\n",
       "    <tr>\n",
       "      <th>2</th>\n",
       "      <td>2020-10-02 13:55:00</td>\n",
       "      <td>Ascot</td>\n",
       "      <td>1760</td>\n",
       "      <td>6</td>\n",
       "      <td>1</td>\n",
       "      <td>11.0</td>\n",
       "      <td>15.0</td>\n",
       "      <td>19.00</td>\n",
       "      <td>0</td>\n",
       "      <td>0</td>\n",
       "      <td>1</td>\n",
       "      <td>25.00</td>\n",
       "      <td>8.0</td>\n",
       "      <td>2</td>\n",
       "      <td>49</td>\n",
       "      <td>25.00</td>\n",
       "      <td>2020-10-02 13:55:00_Ascot</td>\n",
       "      <td>16</td>\n",
       "    </tr>\n",
       "    <tr>\n",
       "      <th>3</th>\n",
       "      <td>2020-10-02 13:55:00</td>\n",
       "      <td>Ascot</td>\n",
       "      <td>1760</td>\n",
       "      <td>5</td>\n",
       "      <td>1</td>\n",
       "      <td>4.5</td>\n",
       "      <td>4.5</td>\n",
       "      <td>3.75</td>\n",
       "      <td>0</td>\n",
       "      <td>0</td>\n",
       "      <td>3</td>\n",
       "      <td>0.00</td>\n",
       "      <td>14.0</td>\n",
       "      <td>6</td>\n",
       "      <td>60</td>\n",
       "      <td>0.00</td>\n",
       "      <td>2020-10-02 13:55:00_Ascot</td>\n",
       "      <td>16</td>\n",
       "    </tr>\n",
       "    <tr>\n",
       "      <th>4</th>\n",
       "      <td>2020-10-02 13:55:00</td>\n",
       "      <td>Ascot</td>\n",
       "      <td>1760</td>\n",
       "      <td>3</td>\n",
       "      <td>5</td>\n",
       "      <td>6.5</td>\n",
       "      <td>5.0</td>\n",
       "      <td>4.00</td>\n",
       "      <td>0</td>\n",
       "      <td>1</td>\n",
       "      <td>4</td>\n",
       "      <td>33.33</td>\n",
       "      <td>3.0</td>\n",
       "      <td>4</td>\n",
       "      <td>68</td>\n",
       "      <td>33.33</td>\n",
       "      <td>2020-10-02 13:55:00_Ascot</td>\n",
       "      <td>16</td>\n",
       "    </tr>\n",
       "  </tbody>\n",
       "</table>\n",
       "</div>"
      ],
      "text/plain": [
       "             Race Time Course  Distance (y)  Draw  Weight Rank  \\\n",
       "0  2020-10-02 13:55:00  Ascot          1760     1            1   \n",
       "1  2020-10-02 13:55:00  Ascot          1760     2            1   \n",
       "2  2020-10-02 13:55:00  Ascot          1760     6            1   \n",
       "3  2020-10-02 13:55:00  Ascot          1760     5            1   \n",
       "4  2020-10-02 13:55:00  Ascot          1760     3            5   \n",
       "\n",
       "   Breakfast Price  Morning Price  SP Odds Decimal  Won (1=Won, 0=Lost)  \\\n",
       "0              6.5            7.5            19.00                    0   \n",
       "1              5.0            6.5             6.00                    0   \n",
       "2             11.0           15.0            19.00                    0   \n",
       "3              4.5            4.5             3.75                    0   \n",
       "4              6.5            5.0             4.00                    0   \n",
       "\n",
       "   Place (1=Placed, 0=UnPlaced)  Trainer/Jky Stats Rank  WON SR Before  \\\n",
       "0                             0                       6          21.88   \n",
       "1                             0                       5           7.69   \n",
       "2                             0                       1          25.00   \n",
       "3                             0                       3           0.00   \n",
       "4                             1                       4          33.33   \n",
       "\n",
       "   Position LTO  Horse Stats Rank  Proform Speed Rating  WON SR Before_[0]  \\\n",
       "0           1.0                 3                    63              21.88   \n",
       "1           4.0                 5                    62               7.69   \n",
       "2           8.0                 2                    49              25.00   \n",
       "3          14.0                 6                    60               0.00   \n",
       "4           3.0                 4                    68              33.33   \n",
       "\n",
       "                   unique_id  unique_id_int  \n",
       "0  2020-10-02 13:55:00_Ascot             16  \n",
       "1  2020-10-02 13:55:00_Ascot             16  \n",
       "2  2020-10-02 13:55:00_Ascot             16  \n",
       "3  2020-10-02 13:55:00_Ascot             16  \n",
       "4  2020-10-02 13:55:00_Ascot             16  "
      ]
     },
     "execution_count": 2,
     "metadata": {},
     "output_type": "execute_result"
    }
   ],
   "source": [
    "from src.db_connection import DatabaseConnector\n",
    "\n",
    "db_connector = DatabaseConnector('horse')\n",
    "\n",
    "db_connector.connect()\n",
    "\n",
    "query = \"select * from df1 where Course = 'Ascot'\"\n",
    "\n",
    "df = db_connector.fetch_data(query)\n",
    "\n",
    "db_connector.disconnect()\n",
    "\n",
    "df.head()"
   ]
  },
  {
   "cell_type": "code",
   "execution_count": 3,
   "metadata": {},
   "outputs": [],
   "source": [
    "data = df\n",
    "\n",
    "# Convert date column to Timestamp if it's not already\n",
    "data['Race Time'] = pd.to_datetime(data['Race Time'])\n",
    "\n",
    "train_data, test_data = split_data(data, 'unique_id_int', test_size=0.2)\n",
    "\n",
    "# Extract features and target variable for training and testing sets\n",
    "train_features = train_data[['Draw', 'Weight Rank', 'SP Odds Decimal', 'Horse Stats Rank']]\n",
    "train_target = train_data['Won (1=Won, 0=Lost)']\n",
    "\n",
    "test_features = test_data[['Draw', 'Weight Rank', 'SP Odds Decimal', 'Horse Stats Rank']]\n",
    "test_target = test_data['Won (1=Won, 0=Lost)']\n",
    "\n",
    "# Initialize StandardScaler()\n",
    "scaler = StandardScaler()\n",
    "\n",
    "# Fit and and transform\n",
    "scaled_train_features = scaler.fit_transform(train_features)\n",
    "scaled_test_features = scaler.transform(test_features)"
   ]
  },
  {
   "cell_type": "code",
   "execution_count": null,
   "metadata": {},
   "outputs": [],
   "source": []
  },
  {
   "cell_type": "code",
   "execution_count": 10,
   "metadata": {},
   "outputs": [
    {
     "name": "stdout",
     "output_type": "stream",
     "text": [
      "Accuracy: 0.8595317725752508\n",
      "Precision: 0.23809523809523808\n",
      "Recall: 0.16129032258064516\n",
      "F1 score: 0.1923076923076923\n",
      "ROC AUC score: 0.5507944150216659\n"
     ]
    }
   ],
   "source": [
    "run_name = 'rf_loop_est=200_ascot'\n",
    "with mlflow.start_run(run_name=run_name):\n",
    "    scaler = StandardScaler()\n",
    "\n",
    "    clf = RandomForestClassifier(n_estimators=200, random_state=42)\n",
    "\n",
    "    # Train the model using the training data\n",
    "    clf.fit(scaled_train_features, train_target)\n",
    "\n",
    "    # Make predictions on the test set\n",
    "    predictions = clf.predict(scaled_test_features)\n",
    "\n",
    "    # Evaluate the model\n",
    "    eval_print_log(test_target, predictions)\n",
    "\n",
    "    mlflow.end_run()"
   ]
  },
  {
   "cell_type": "code",
   "execution_count": 5,
   "metadata": {},
   "outputs": [
    {
     "name": "stdout",
     "output_type": "stream",
     "text": [
      "Accuracy: 0.862876254180602\n",
      "Precision: 0.25\n",
      "Recall: 0.16129032258064516\n",
      "F1 score: 0.19607843137254902\n",
      "ROC AUC score: 0.5526600866634569\n"
     ]
    }
   ],
   "source": [
    "run_name = 'rf_loop_est=100_ascot'\n",
    "with mlflow.start_run(run_name=run_name):\n",
    "    scaler = StandardScaler()\n",
    "\n",
    "    clf = RandomForestClassifier(n_estimators=100, random_state=42)\n",
    "\n",
    "    # Train the model using the training data\n",
    "    clf.fit(scaled_train_features, train_target)\n",
    "\n",
    "    # Make predictions on the test set\n",
    "    predictions = clf.predict(scaled_test_features)\n",
    "\n",
    "    # Evaluate the model\n",
    "    eval_print_log(test_target, predictions)\n",
    "\n",
    "    mlflow.end_run()\n",
    "\n",
    "    \n",
    "    "
   ]
  },
  {
   "cell_type": "code",
   "execution_count": 6,
   "metadata": {},
   "outputs": [
    {
     "name": "stdout",
     "output_type": "stream",
     "text": [
      "Accuracy: 0.862876254180602\n",
      "Precision: 0.25\n",
      "Recall: 0.16129032258064516\n",
      "F1 score: 0.19607843137254902\n",
      "ROC AUC score: 0.5526600866634569\n"
     ]
    }
   ],
   "source": [
    "run_name = 'rf_loop_est=50_ascot'\n",
    "with mlflow.start_run(run_name=run_name):\n",
    "    scaler = StandardScaler()\n",
    "\n",
    "    clf = RandomForestClassifier(n_estimators=50, random_state=42)\n",
    "\n",
    "    # Train the model using the training data\n",
    "    clf.fit(scaled_train_features, train_target)\n",
    "\n",
    "    # Make predictions on the test set\n",
    "    predictions = clf.predict(scaled_test_features)\n",
    "\n",
    "    # Evaluate the model\n",
    "    eval_print_log(test_target, predictions)\n",
    "\n",
    "    mlflow.end_run()"
   ]
  },
  {
   "cell_type": "code",
   "execution_count": 7,
   "metadata": {},
   "outputs": [
    {
     "name": "stdout",
     "output_type": "stream",
     "text": [
      "Accuracy: 0.8662207357859532\n",
      "Precision: 0.2631578947368421\n",
      "Recall: 0.16129032258064516\n",
      "F1 score: 0.19999999999999998\n",
      "ROC AUC score: 0.554525758305248\n"
     ]
    }
   ],
   "source": [
    "run_name = 'rfc_ascot'\n",
    "with mlflow.start_run(run_name=run_name):\n",
    "\n",
    "    # Initialize the Random Forest Classifier\n",
    "    clf = RandomForestClassifier()\n",
    "\n",
    "    # Train the model using the training data\n",
    "    clf.fit(scaled_train_features, train_target)\n",
    "\n",
    "    # Make predictions on the test set\n",
    "    predictions = clf.predict(scaled_test_features)\n",
    "\n",
    "    # Evaluate the model\n",
    "    eval_print_log(test_target, predictions)\n",
    "\n",
    "    mlflow.end_run()"
   ]
  },
  {
   "cell_type": "code",
   "execution_count": 8,
   "metadata": {},
   "outputs": [
    {
     "name": "stdout",
     "output_type": "stream",
     "text": [
      "Accuracy: 0.862876254180602\n",
      "Precision: 0.25\n",
      "Recall: 0.16129032258064516\n",
      "F1 score: 0.19607843137254902\n",
      "ROC AUC score: 0.5526600866634569\n"
     ]
    }
   ],
   "source": [
    "\n",
    "\n",
    "with mlflow.start_run(run_name='xgb_ascot'):\n",
    "    # Initialize XGBoost Classifier\n",
    "    xgb_model = xgb.XGBClassifier(objective='binary:logistic', eval_metric='logloss', random_state=42)\n",
    "\n",
    "    # Fit the model using the scaled training features and target\n",
    "    xgb_model.fit(scaled_train_features, train_target)\n",
    "\n",
    "    # Make predictions on the scaled test features\n",
    "    y_pred = xgb_model.predict(scaled_test_features)\n",
    "\n",
    "    # Evaluate accuracy\n",
    "    eval_print_log(test_target, y_pred)"
   ]
  },
  {
   "cell_type": "code",
   "execution_count": 6,
   "metadata": {},
   "outputs": [
    {
     "ename": "OSError",
     "evalue": "No such file or directory: '/Users/andrewbarwise/Desktop/horse_trading/mlruns/0/51b333be2a2b4dea8ff87db1be422821/artifacts/mlruns'",
     "output_type": "error",
     "traceback": [
      "\u001b[0;31m---------------------------------------------------------------------------\u001b[0m",
      "\u001b[0;31mOSError\u001b[0m                                   Traceback (most recent call last)",
      "Cell \u001b[0;32mIn[6], line 2\u001b[0m\n\u001b[1;32m      1\u001b[0m best_model_uri \u001b[38;5;241m=\u001b[39m get_best_model()\n\u001b[0;32m----> 2\u001b[0m loaded_best_model \u001b[38;5;241m=\u001b[39m \u001b[43mmlflow\u001b[49m\u001b[38;5;241;43m.\u001b[39;49m\u001b[43msklearn\u001b[49m\u001b[38;5;241;43m.\u001b[39;49m\u001b[43mload_model\u001b[49m\u001b[43m(\u001b[49m\u001b[43mbest_model_uri\u001b[49m\u001b[43m)\u001b[49m\n",
      "File \u001b[0;32m~/miniforge3/envs/horse_trading/lib/python3.11/site-packages/mlflow/sklearn/__init__.py:613\u001b[0m, in \u001b[0;36mload_model\u001b[0;34m(model_uri, dst_path)\u001b[0m\n\u001b[1;32m    580\u001b[0m \u001b[38;5;28;01mdef\u001b[39;00m \u001b[38;5;21mload_model\u001b[39m(model_uri, dst_path\u001b[38;5;241m=\u001b[39m\u001b[38;5;28;01mNone\u001b[39;00m):\n\u001b[1;32m    581\u001b[0m \u001b[38;5;250m    \u001b[39m\u001b[38;5;124;03m\"\"\"\u001b[39;00m\n\u001b[1;32m    582\u001b[0m \u001b[38;5;124;03m    Load a scikit-learn model from a local file or a run.\u001b[39;00m\n\u001b[1;32m    583\u001b[0m \n\u001b[0;32m   (...)\u001b[0m\n\u001b[1;32m    611\u001b[0m \u001b[38;5;124;03m        predictions = sk_model.predict(pandas_df)\u001b[39;00m\n\u001b[1;32m    612\u001b[0m \u001b[38;5;124;03m    \"\"\"\u001b[39;00m\n\u001b[0;32m--> 613\u001b[0m     local_model_path \u001b[38;5;241m=\u001b[39m \u001b[43m_download_artifact_from_uri\u001b[49m\u001b[43m(\u001b[49m\u001b[43martifact_uri\u001b[49m\u001b[38;5;241;43m=\u001b[39;49m\u001b[43mmodel_uri\u001b[49m\u001b[43m,\u001b[49m\u001b[43m \u001b[49m\u001b[43moutput_path\u001b[49m\u001b[38;5;241;43m=\u001b[39;49m\u001b[43mdst_path\u001b[49m\u001b[43m)\u001b[49m\n\u001b[1;32m    614\u001b[0m     flavor_conf \u001b[38;5;241m=\u001b[39m _get_flavor_configuration(model_path\u001b[38;5;241m=\u001b[39mlocal_model_path, flavor_name\u001b[38;5;241m=\u001b[39mFLAVOR_NAME)\n\u001b[1;32m    615\u001b[0m     _add_code_from_conf_to_system_path(local_model_path, flavor_conf)\n",
      "File \u001b[0;32m~/miniforge3/envs/horse_trading/lib/python3.11/site-packages/mlflow/tracking/artifact_utils.py:100\u001b[0m, in \u001b[0;36m_download_artifact_from_uri\u001b[0;34m(artifact_uri, output_path)\u001b[0m\n\u001b[1;32m     94\u001b[0m \u001b[38;5;250m\u001b[39m\u001b[38;5;124;03m\"\"\"\u001b[39;00m\n\u001b[1;32m     95\u001b[0m \u001b[38;5;124;03m:param artifact_uri: The *absolute* URI of the artifact to download.\u001b[39;00m\n\u001b[1;32m     96\u001b[0m \u001b[38;5;124;03m:param output_path: The local filesystem path to which to download the artifact. If unspecified,\u001b[39;00m\n\u001b[1;32m     97\u001b[0m \u001b[38;5;124;03m                    a local output path will be created.\u001b[39;00m\n\u001b[1;32m     98\u001b[0m \u001b[38;5;124;03m\"\"\"\u001b[39;00m\n\u001b[1;32m     99\u001b[0m root_uri, artifact_path \u001b[38;5;241m=\u001b[39m _get_root_uri_and_artifact_path(artifact_uri)\n\u001b[0;32m--> 100\u001b[0m \u001b[38;5;28;01mreturn\u001b[39;00m \u001b[43mget_artifact_repository\u001b[49m\u001b[43m(\u001b[49m\u001b[43martifact_uri\u001b[49m\u001b[38;5;241;43m=\u001b[39;49m\u001b[43mroot_uri\u001b[49m\u001b[43m)\u001b[49m\u001b[38;5;241;43m.\u001b[39;49m\u001b[43mdownload_artifacts\u001b[49m\u001b[43m(\u001b[49m\n\u001b[1;32m    101\u001b[0m \u001b[43m    \u001b[49m\u001b[43martifact_path\u001b[49m\u001b[38;5;241;43m=\u001b[39;49m\u001b[43martifact_path\u001b[49m\u001b[43m,\u001b[49m\u001b[43m \u001b[49m\u001b[43mdst_path\u001b[49m\u001b[38;5;241;43m=\u001b[39;49m\u001b[43moutput_path\u001b[49m\n\u001b[1;32m    102\u001b[0m \u001b[43m\u001b[49m\u001b[43m)\u001b[49m\n",
      "File \u001b[0;32m~/miniforge3/envs/horse_trading/lib/python3.11/site-packages/mlflow/store/artifact/runs_artifact_repo.py:125\u001b[0m, in \u001b[0;36mRunsArtifactRepository.download_artifacts\u001b[0;34m(self, artifact_path, dst_path)\u001b[0m\n\u001b[1;32m    110\u001b[0m \u001b[38;5;28;01mdef\u001b[39;00m \u001b[38;5;21mdownload_artifacts\u001b[39m(\u001b[38;5;28mself\u001b[39m, artifact_path, dst_path\u001b[38;5;241m=\u001b[39m\u001b[38;5;28;01mNone\u001b[39;00m):\n\u001b[1;32m    111\u001b[0m \u001b[38;5;250m    \u001b[39m\u001b[38;5;124;03m\"\"\"\u001b[39;00m\n\u001b[1;32m    112\u001b[0m \u001b[38;5;124;03m    Download an artifact file or directory to a local directory if applicable, and return a\u001b[39;00m\n\u001b[1;32m    113\u001b[0m \u001b[38;5;124;03m    local path for it.\u001b[39;00m\n\u001b[0;32m   (...)\u001b[0m\n\u001b[1;32m    123\u001b[0m \u001b[38;5;124;03m    :return: Absolute path of the local filesystem location containing the desired artifacts.\u001b[39;00m\n\u001b[1;32m    124\u001b[0m \u001b[38;5;124;03m    \"\"\"\u001b[39;00m\n\u001b[0;32m--> 125\u001b[0m     \u001b[38;5;28;01mreturn\u001b[39;00m \u001b[38;5;28;43mself\u001b[39;49m\u001b[38;5;241;43m.\u001b[39;49m\u001b[43mrepo\u001b[49m\u001b[38;5;241;43m.\u001b[39;49m\u001b[43mdownload_artifacts\u001b[49m\u001b[43m(\u001b[49m\u001b[43martifact_path\u001b[49m\u001b[43m,\u001b[49m\u001b[43m \u001b[49m\u001b[43mdst_path\u001b[49m\u001b[43m)\u001b[49m\n",
      "File \u001b[0;32m~/miniforge3/envs/horse_trading/lib/python3.11/site-packages/mlflow/store/artifact/local_artifact_repo.py:81\u001b[0m, in \u001b[0;36mLocalArtifactRepository.download_artifacts\u001b[0;34m(self, artifact_path, dst_path)\u001b[0m\n\u001b[1;32m     79\u001b[0m local_artifact_path \u001b[38;5;241m=\u001b[39m os\u001b[38;5;241m.\u001b[39mpath\u001b[38;5;241m.\u001b[39mjoin(\u001b[38;5;28mself\u001b[39m\u001b[38;5;241m.\u001b[39martifact_dir, os\u001b[38;5;241m.\u001b[39mpath\u001b[38;5;241m.\u001b[39mnormpath(artifact_path))\n\u001b[1;32m     80\u001b[0m \u001b[38;5;28;01mif\u001b[39;00m \u001b[38;5;129;01mnot\u001b[39;00m os\u001b[38;5;241m.\u001b[39mpath\u001b[38;5;241m.\u001b[39mexists(local_artifact_path):\n\u001b[0;32m---> 81\u001b[0m     \u001b[38;5;28;01mraise\u001b[39;00m \u001b[38;5;167;01mOSError\u001b[39;00m(\u001b[38;5;124mf\u001b[39m\u001b[38;5;124m\"\u001b[39m\u001b[38;5;124mNo such file or directory: \u001b[39m\u001b[38;5;124m'\u001b[39m\u001b[38;5;132;01m{\u001b[39;00mlocal_artifact_path\u001b[38;5;132;01m}\u001b[39;00m\u001b[38;5;124m'\u001b[39m\u001b[38;5;124m\"\u001b[39m)\n\u001b[1;32m     82\u001b[0m \u001b[38;5;28;01mreturn\u001b[39;00m os\u001b[38;5;241m.\u001b[39mpath\u001b[38;5;241m.\u001b[39mabspath(local_artifact_path)\n",
      "\u001b[0;31mOSError\u001b[0m: No such file or directory: '/Users/andrewbarwise/Desktop/horse_trading/mlruns/0/51b333be2a2b4dea8ff87db1be422821/artifacts/mlruns'"
     ]
    }
   ],
   "source": [
    "best_model_uri = get_best_model()\n",
    "loaded_best_model = mlflow.sklearn.load_model(best_model_uri)"
   ]
  }
 ],
 "metadata": {
  "kernelspec": {
   "display_name": "horse_trading",
   "language": "python",
   "name": "python3"
  },
  "language_info": {
   "codemirror_mode": {
    "name": "ipython",
    "version": 3
   },
   "file_extension": ".py",
   "mimetype": "text/x-python",
   "name": "python",
   "nbconvert_exporter": "python",
   "pygments_lexer": "ipython3",
   "version": "3.11.6"
  }
 },
 "nbformat": 4,
 "nbformat_minor": 2
}
