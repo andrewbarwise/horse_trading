{
 "cells": [
  {
   "cell_type": "code",
   "execution_count": 1,
   "metadata": {},
   "outputs": [],
   "source": [
    "import sys\n",
    "sys.path.append('../src')\n",
    "\n",
    "import os\n",
    "import requests\n",
    "import json\n",
    "import pandas as pd\n",
    "import betfairlightweight\n",
    "from betfairlightweight import filters\n",
    "from datetime import datetime, timedelta\n",
    "\n",
    "from betfair import Betfair\n",
    "\n",
    "pd.set_option('display.max_columns', None)"
   ]
  },
  {
   "cell_type": "code",
   "execution_count": 2,
   "metadata": {},
   "outputs": [],
   "source": [
    "# need to import daily data so that we can get the race ids and loop through for results."
   ]
  },
  {
   "cell_type": "code",
   "execution_count": 3,
   "metadata": {},
   "outputs": [],
   "source": [
    "app_key = 'ABGJLOlKaLtTsMIp'\n",
    "\n",
    "username1 = input(\"Email:\")\n",
    "password1 = input(\"Password:\")"
   ]
  },
  {
   "cell_type": "code",
   "execution_count": 4,
   "metadata": {},
   "outputs": [],
   "source": [
    "trading = betfairlightweight.APIClient(\n",
    "        username1, password1, app_key\n",
    "    )\n",
    "trading.login_interactive()\n",
    "\n",
    "trading.session_token\n",
    "\n",
    "trading.keep_alive()\n",
    "\n",
    "trading.race_card.login()"
   ]
  },
  {
   "cell_type": "code",
   "execution_count": 5,
   "metadata": {},
   "outputs": [],
   "source": [
    "folder_path = '../data/daily'\n",
    "\n",
    "csv_files = [f for f in os.listdir(folder_path) if f.endswith('.csv')]"
   ]
  },
  {
   "cell_type": "code",
   "execution_count": 8,
   "metadata": {},
   "outputs": [],
   "source": [
    "def fetch_race_results(market_ids):\n",
    "    try:\n",
    "        data = trading.race_card.get_race_result(market_ids=market_ids)\n",
    "    except Exception as e:\n",
    "        print(f\"An error occurred: {e}\")\n",
    "        data = []\n",
    "\n",
    "    # Process and display the data\n",
    "    flat_data = []\n",
    "\n",
    "    for race in data:\n",
    "        for runner in race.get('runners', []):\n",
    "            for selection in runner.get('selections', []):\n",
    "                if selection['marketType'] == 'WIN' and 'bsp' in selection:\n",
    "                    flat_data.append({\n",
    "                        'race_id': race.get('raceId'),\n",
    "                        'start_date': race.get('startDate'),\n",
    "                        'course_name': race.get('course', {}).get('name'),\n",
    "                        'country_code': race.get('course', {}).get('countryCode'),\n",
    "                        'race_title': race.get('raceTitle'),\n",
    "                        'race_class': race.get('raceClassification', {}).get('classification'),\n",
    "                        'distance': race.get('distance'),\n",
    "                        'course_type': race.get('course', {}).get('courseType'),\n",
    "                        'surface_type': race.get('course', {}).get('surfaceType'),\n",
    "                        'market_id': selection.get('marketId'),\n",
    "                        'market_type': selection.get('marketType'),\n",
    "                        'horse_id': runner.get('horseId'),\n",
    "                        'horse_name': runner.get('horseName', 'Unknown'),\n",
    "                        'saddle_cloth': runner.get('saddleCloth'),\n",
    "                        'isNonRunner': runner.get('isNonRunner'),\n",
    "                        'position': runner.get('position'),\n",
    "                        'selectionId': selection.get('selectionId'),\n",
    "                        'bsp': selection.get('bsp')\n",
    "                    })\n",
    "\n",
    "    return pd.DataFrame(flat_data)"
   ]
  },
  {
   "cell_type": "code",
   "execution_count": 9,
   "metadata": {},
   "outputs": [
    {
     "name": "stdout",
     "output_type": "stream",
     "text": [
      "An error occurred: Status code error: 400\n"
     ]
    },
    {
     "ename": "KeyError",
     "evalue": "'market_id'",
     "output_type": "error",
     "traceback": [
      "\u001b[0;31m---------------------------------------------------------------------------\u001b[0m",
      "\u001b[0;31mKeyError\u001b[0m                                  Traceback (most recent call last)",
      "Cell \u001b[0;32mIn[9], line 13\u001b[0m\n\u001b[1;32m      9\u001b[0m market_ids \u001b[38;5;241m=\u001b[39m df[\u001b[38;5;124m'\u001b[39m\u001b[38;5;124mmarket_id\u001b[39m\u001b[38;5;124m'\u001b[39m]\u001b[38;5;241m.\u001b[39munique()\n\u001b[1;32m     11\u001b[0m results_df \u001b[38;5;241m=\u001b[39m fetch_race_results(market_ids)\n\u001b[0;32m---> 13\u001b[0m results_df[\u001b[38;5;124m'\u001b[39m\u001b[38;5;124mmarket_id\u001b[39m\u001b[38;5;124m'\u001b[39m] \u001b[38;5;241m=\u001b[39m \u001b[43mresults_df\u001b[49m\u001b[43m[\u001b[49m\u001b[38;5;124;43m'\u001b[39;49m\u001b[38;5;124;43mmarket_id\u001b[39;49m\u001b[38;5;124;43m'\u001b[39;49m\u001b[43m]\u001b[49m\u001b[38;5;241m.\u001b[39mastype(\u001b[38;5;28mstr\u001b[39m)\n\u001b[1;32m     14\u001b[0m results_df[\u001b[38;5;124m'\u001b[39m\u001b[38;5;124mselection_id\u001b[39m\u001b[38;5;124m'\u001b[39m] \u001b[38;5;241m=\u001b[39m results_df[\u001b[38;5;124m'\u001b[39m\u001b[38;5;124mselection_id\u001b[39m\u001b[38;5;124m'\u001b[39m]\u001b[38;5;241m.\u001b[39mastype(\u001b[38;5;28mstr\u001b[39m)\n\u001b[1;32m     16\u001b[0m df_merged \u001b[38;5;241m=\u001b[39m df\u001b[38;5;241m.\u001b[39mmerge(results_df, left_on \u001b[38;5;241m=\u001b[39m [\u001b[38;5;124m'\u001b[39m\u001b[38;5;124mmarket_id\u001b[39m\u001b[38;5;124m'\u001b[39m, \u001b[38;5;124m'\u001b[39m\u001b[38;5;124mselection_id\u001b[39m\u001b[38;5;124m'\u001b[39m], right_on\u001b[38;5;241m=\u001b[39m [\u001b[38;5;124m'\u001b[39m\u001b[38;5;124mmarket_id\u001b[39m\u001b[38;5;124m'\u001b[39m, \u001b[38;5;124m'\u001b[39m\u001b[38;5;124mselection_id\u001b[39m\u001b[38;5;124m'\u001b[39m],how \u001b[38;5;241m=\u001b[39m \u001b[38;5;124m'\u001b[39m\u001b[38;5;124mleft\u001b[39m\u001b[38;5;124m'\u001b[39m)\n",
      "File \u001b[0;32m~/miniforge3/envs/horse_trading/lib/python3.11/site-packages/pandas/core/frame.py:4090\u001b[0m, in \u001b[0;36mDataFrame.__getitem__\u001b[0;34m(self, key)\u001b[0m\n\u001b[1;32m   4088\u001b[0m \u001b[38;5;28;01mif\u001b[39;00m \u001b[38;5;28mself\u001b[39m\u001b[38;5;241m.\u001b[39mcolumns\u001b[38;5;241m.\u001b[39mnlevels \u001b[38;5;241m>\u001b[39m \u001b[38;5;241m1\u001b[39m:\n\u001b[1;32m   4089\u001b[0m     \u001b[38;5;28;01mreturn\u001b[39;00m \u001b[38;5;28mself\u001b[39m\u001b[38;5;241m.\u001b[39m_getitem_multilevel(key)\n\u001b[0;32m-> 4090\u001b[0m indexer \u001b[38;5;241m=\u001b[39m \u001b[38;5;28;43mself\u001b[39;49m\u001b[38;5;241;43m.\u001b[39;49m\u001b[43mcolumns\u001b[49m\u001b[38;5;241;43m.\u001b[39;49m\u001b[43mget_loc\u001b[49m\u001b[43m(\u001b[49m\u001b[43mkey\u001b[49m\u001b[43m)\u001b[49m\n\u001b[1;32m   4091\u001b[0m \u001b[38;5;28;01mif\u001b[39;00m is_integer(indexer):\n\u001b[1;32m   4092\u001b[0m     indexer \u001b[38;5;241m=\u001b[39m [indexer]\n",
      "File \u001b[0;32m~/miniforge3/envs/horse_trading/lib/python3.11/site-packages/pandas/core/indexes/range.py:417\u001b[0m, in \u001b[0;36mRangeIndex.get_loc\u001b[0;34m(self, key)\u001b[0m\n\u001b[1;32m    415\u001b[0m         \u001b[38;5;28;01mraise\u001b[39;00m \u001b[38;5;167;01mKeyError\u001b[39;00m(key) \u001b[38;5;28;01mfrom\u001b[39;00m \u001b[38;5;21;01merr\u001b[39;00m\n\u001b[1;32m    416\u001b[0m \u001b[38;5;28;01mif\u001b[39;00m \u001b[38;5;28misinstance\u001b[39m(key, Hashable):\n\u001b[0;32m--> 417\u001b[0m     \u001b[38;5;28;01mraise\u001b[39;00m \u001b[38;5;167;01mKeyError\u001b[39;00m(key)\n\u001b[1;32m    418\u001b[0m \u001b[38;5;28mself\u001b[39m\u001b[38;5;241m.\u001b[39m_check_indexing_error(key)\n\u001b[1;32m    419\u001b[0m \u001b[38;5;28;01mraise\u001b[39;00m \u001b[38;5;167;01mKeyError\u001b[39;00m(key)\n",
      "\u001b[0;31mKeyError\u001b[0m: 'market_id'"
     ]
    }
   ],
   "source": [
    "merged_dfs = []\n",
    "\n",
    "for csv in csv_files:\n",
    "\n",
    "    df = pd.read_csv(os.path.join(folder_path, csv))\n",
    "    df['market_id'] = df['market_id'].astype(str)\n",
    "    df['market_id'] = df['selection_id'].astype(str)\n",
    "\n",
    "    market_ids = df['market_id'].unique()\n",
    "\n",
    "    results_df = fetch_race_results(market_ids)\n",
    "\n",
    "    results_df['market_id'] = results_df['market_id'].astype(str)\n",
    "    results_df['selection_id'] = results_df['selection_id'].astype(str)\n",
    "\n",
    "    df_merged = df.merge(results_df, left_on = ['market_id', 'selection_id'], right_on= ['market_id', 'selection_id'],how = 'left')\n",
    "\n",
    "    merged_dfs.append(df_merged)\n",
    "\n",
    "final_df = pd.concat(merged_dfs, ignore_index=True)\n",
    "\n",
    "final_df.to_csv('../data/results/results.csv', index=False)"
   ]
  },
  {
   "cell_type": "code",
   "execution_count": null,
   "metadata": {},
   "outputs": [
    {
     "data": {
      "text/plain": [
       "array([1.23204517, 1.23204511, 1.23204574, 1.23204575, 1.23204499,\n",
       "       1.23204577, 1.232045  , 1.23204579, 1.232045  , 1.2320458 ,\n",
       "       1.23204501, 1.2320458 , 1.23204501, 1.23204581, 1.23204502])"
      ]
     },
     "execution_count": 14,
     "metadata": {},
     "output_type": "execute_result"
    }
   ],
   "source": [
    "market_ids"
   ]
  },
  {
   "cell_type": "code",
   "execution_count": null,
   "metadata": {},
   "outputs": [],
   "source": [
    "market_ids = [\"1.231693932\"]\n",
    "\n",
    "try:\n",
    "    data = trading.race_card.get_race_result(market_ids=market_ids)\n",
    "except Exception as e:\n",
    "    print(f\"An error occurred: {e}\")\n",
    "    data = []\n",
    "\n",
    "# Process and display the data\n",
    "flat_data = []\n",
    "\n",
    "for race in data:\n",
    "    for runner in race.get('runners', []):\n",
    "        for selection in runner.get('selections', []):\n",
    "            if selection['marketType'] == 'WIN' and 'bsp' in selection:\n",
    "                flat_data.append({\n",
    "                    'raceId': race.get('raceId'),\n",
    "                    'startDate': race.get('startDate'),\n",
    "                    'courseName': race.get('course', {}).get('name'),\n",
    "                    'countryCode': race.get('course', {}).get('countryCode'),\n",
    "                    'raceTitle': race.get('raceTitle'),\n",
    "                    'raceClass': race.get('raceClassification', {}).get('classification'),\n",
    "                    'raceDistance': race.get('distance'),\n",
    "                    'courseType': race.get('course', {}).get('courseType'),\n",
    "                    'surfaceType': race.get('course', {}).get('surfaceType'),\n",
    "                    'marketId': selection.get('marketId'),\n",
    "                    'marketType': selection.get('marketType'),\n",
    "                    'horseId': runner.get('horseId'),\n",
    "                    'horseName': runner.get('horseName', 'Unknown'),\n",
    "                    'saddleCloth': runner.get('saddleCloth'),\n",
    "                    'isNonRunner': runner.get('isNonRunner'),\n",
    "                    'position': runner.get('position'),\n",
    "                    'selectionId': selection.get('selectionId'),\n",
    "                    'bsp': selection.get('bsp')\n",
    "                })\n",
    "\n",
    "# Create a DataFrame\n",
    "import pandas as pd\n",
    "df = pd.DataFrame(flat_data)\n",
    "\n",
    "# Display the DataFrame\n",
    "print(df)"
   ]
  },
  {
   "cell_type": "code",
   "execution_count": null,
   "metadata": {},
   "outputs": [],
   "source": [
    "# need to save down the results\n"
   ]
  }
 ],
 "metadata": {
  "kernelspec": {
   "display_name": "Python 3",
   "language": "python",
   "name": "python3"
  },
  "language_info": {
   "codemirror_mode": {
    "name": "ipython",
    "version": 3
   },
   "file_extension": ".py",
   "mimetype": "text/x-python",
   "name": "python",
   "nbconvert_exporter": "python",
   "pygments_lexer": "ipython3",
   "version": "3.11.6"
  }
 },
 "nbformat": 4,
 "nbformat_minor": 2
}
