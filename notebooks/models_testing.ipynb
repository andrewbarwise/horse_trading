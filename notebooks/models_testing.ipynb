{
 "cells": [
  {
   "cell_type": "markdown",
   "metadata": {},
   "source": [
    "- take the best performing model and do some clustering to identify the races it performs well on."
   ]
  },
  {
   "cell_type": "code",
   "execution_count": 1,
   "metadata": {},
   "outputs": [
    {
     "name": "stderr",
     "output_type": "stream",
     "text": [
      "/Users/andrewbarwise/miniforge3/envs/horse_trading/lib/python3.11/site-packages/pydantic/_internal/_fields.py:151: UserWarning: Field \"model_server_url\" has conflict with protected namespace \"model_\".\n",
      "\n",
      "You may be able to resolve this warning by setting `model_config['protected_namespaces'] = ()`.\n",
      "  warnings.warn(\n",
      "/Users/andrewbarwise/miniforge3/envs/horse_trading/lib/python3.11/site-packages/pydantic/_internal/_config.py:322: UserWarning: Valid config keys have changed in V2:\n",
      "* 'schema_extra' has been renamed to 'json_schema_extra'\n",
      "  warnings.warn(message, UserWarning)\n"
     ]
    }
   ],
   "source": [
    "import sys\n",
    "sys.path.append('../src')\n",
    "\n",
    "import mlflow\n",
    "from sklearn.ensemble import RandomForestClassifier, GradientBoostingClassifier\n",
    "from sklearn.linear_model import LogisticRegression # type: ignore\n",
    "from sklearn.model_selection import GridSearchCV # type: ignore\n",
    "\n",
    "import tensorflow as tf\n",
    "from tensorflow.keras.models import Sequential\n",
    "from tensorflow.keras.layers import Dense\n",
    "\n",
    "import pandas as pd\n",
    "import numpy as np\n",
    "import xgboost as xgb\n",
    "from xgboost import XGBClassifier\n",
    "from sklearn.metrics import classification_report\n",
    "from imblearn.over_sampling import RandomOverSampler, SMOTE\n",
    "import pickle\n",
    "\n",
    "from functions import *\n",
    "\n",
    "from data_cleaning import DataCleaning\n",
    "\n",
    "import os\n",
    "\n",
    "pd.set_option('display.max_columns', None)"
   ]
  },
  {
   "cell_type": "code",
   "execution_count": 2,
   "metadata": {},
   "outputs": [
    {
     "data": {
      "text/html": [
       "<div>\n",
       "<style scoped>\n",
       "    .dataframe tbody tr th:only-of-type {\n",
       "        vertical-align: middle;\n",
       "    }\n",
       "\n",
       "    .dataframe tbody tr th {\n",
       "        vertical-align: top;\n",
       "    }\n",
       "\n",
       "    .dataframe thead th {\n",
       "        text-align: right;\n",
       "    }\n",
       "</style>\n",
       "<table border=\"1\" class=\"dataframe\">\n",
       "  <thead>\n",
       "    <tr style=\"text-align: right;\">\n",
       "      <th></th>\n",
       "      <th>Unnamed: 0</th>\n",
       "      <th>Race Time</th>\n",
       "      <th>Course</th>\n",
       "      <th>Horse</th>\n",
       "      <th>Distance (y)</th>\n",
       "      <th>SP Odds Decimal</th>\n",
       "      <th>Won (1=Won, 0=Lost)</th>\n",
       "      <th>Place (1=Placed, 0=UnPlaced)</th>\n",
       "      <th>Pace Rating Rank</th>\n",
       "      <th>Trainer/Jky Stats Rank</th>\n",
       "      <th>Proform Speed Rating</th>\n",
       "      <th>LTO Speed Rating Rank</th>\n",
       "      <th>MR Career Speed Rating Rank</th>\n",
       "      <th>WON SR Before</th>\n",
       "      <th>Won P/L Before</th>\n",
       "      <th>Plc SR Before</th>\n",
       "      <th>Official Rating LTO</th>\n",
       "      <th>Position LTO</th>\n",
       "      <th>distance_bucket</th>\n",
       "      <th>evening_morning_price</th>\n",
       "      <th>breakfast_morning_price</th>\n",
       "      <th>weight</th>\n",
       "      <th>sp_odds_rank</th>\n",
       "    </tr>\n",
       "  </thead>\n",
       "  <tbody>\n",
       "    <tr>\n",
       "      <th>0</th>\n",
       "      <td>0</td>\n",
       "      <td>01/04/2022 13:00:00</td>\n",
       "      <td>Leicester</td>\n",
       "      <td>Camacho Star</td>\n",
       "      <td>1100</td>\n",
       "      <td>4</td>\n",
       "      <td>0</td>\n",
       "      <td>0</td>\n",
       "      <td>2</td>\n",
       "      <td>3</td>\n",
       "      <td>23</td>\n",
       "      <td>3</td>\n",
       "      <td>3</td>\n",
       "      <td>0.0</td>\n",
       "      <td>0.0</td>\n",
       "      <td>0.0</td>\n",
       "      <td>0.0</td>\n",
       "      <td>0.0</td>\n",
       "      <td>1000-1200</td>\n",
       "      <td>0.833333</td>\n",
       "      <td>0.909091</td>\n",
       "      <td>131</td>\n",
       "      <td>2</td>\n",
       "    </tr>\n",
       "    <tr>\n",
       "      <th>1</th>\n",
       "      <td>1</td>\n",
       "      <td>01/04/2022 13:00:00</td>\n",
       "      <td>Leicester</td>\n",
       "      <td>Cheeky Maxi</td>\n",
       "      <td>1100</td>\n",
       "      <td>3</td>\n",
       "      <td>0</td>\n",
       "      <td>0</td>\n",
       "      <td>2</td>\n",
       "      <td>7</td>\n",
       "      <td>24</td>\n",
       "      <td>3</td>\n",
       "      <td>3</td>\n",
       "      <td>0.0</td>\n",
       "      <td>0.0</td>\n",
       "      <td>0.0</td>\n",
       "      <td>0.0</td>\n",
       "      <td>0.0</td>\n",
       "      <td>1000-1200</td>\n",
       "      <td>0.750000</td>\n",
       "      <td>0.750000</td>\n",
       "      <td>131</td>\n",
       "      <td>1</td>\n",
       "    </tr>\n",
       "    <tr>\n",
       "      <th>2</th>\n",
       "      <td>2</td>\n",
       "      <td>01/04/2022 13:00:00</td>\n",
       "      <td>Leicester</td>\n",
       "      <td>Global Effort</td>\n",
       "      <td>1100</td>\n",
       "      <td>13</td>\n",
       "      <td>0</td>\n",
       "      <td>0</td>\n",
       "      <td>2</td>\n",
       "      <td>2</td>\n",
       "      <td>42</td>\n",
       "      <td>3</td>\n",
       "      <td>3</td>\n",
       "      <td>0.0</td>\n",
       "      <td>0.0</td>\n",
       "      <td>0.0</td>\n",
       "      <td>0.0</td>\n",
       "      <td>0.0</td>\n",
       "      <td>1000-1200</td>\n",
       "      <td>1.000000</td>\n",
       "      <td>1.000000</td>\n",
       "      <td>131</td>\n",
       "      <td>6</td>\n",
       "    </tr>\n",
       "    <tr>\n",
       "      <th>3</th>\n",
       "      <td>3</td>\n",
       "      <td>01/04/2022 13:00:00</td>\n",
       "      <td>Leicester</td>\n",
       "      <td>Jiffy Boy</td>\n",
       "      <td>1100</td>\n",
       "      <td>5</td>\n",
       "      <td>1</td>\n",
       "      <td>0</td>\n",
       "      <td>2</td>\n",
       "      <td>11</td>\n",
       "      <td>46</td>\n",
       "      <td>1</td>\n",
       "      <td>1</td>\n",
       "      <td>0.0</td>\n",
       "      <td>-1.0</td>\n",
       "      <td>100.0</td>\n",
       "      <td>0.0</td>\n",
       "      <td>3.0</td>\n",
       "      <td>1000-1200</td>\n",
       "      <td>1.500000</td>\n",
       "      <td>1.500000</td>\n",
       "      <td>131</td>\n",
       "      <td>3</td>\n",
       "    </tr>\n",
       "    <tr>\n",
       "      <th>4</th>\n",
       "      <td>4</td>\n",
       "      <td>01/04/2022 13:00:00</td>\n",
       "      <td>Leicester</td>\n",
       "      <td>Man Made Of Smoke</td>\n",
       "      <td>1100</td>\n",
       "      <td>67</td>\n",
       "      <td>0</td>\n",
       "      <td>0</td>\n",
       "      <td>2</td>\n",
       "      <td>6</td>\n",
       "      <td>35</td>\n",
       "      <td>3</td>\n",
       "      <td>3</td>\n",
       "      <td>0.0</td>\n",
       "      <td>0.0</td>\n",
       "      <td>0.0</td>\n",
       "      <td>0.0</td>\n",
       "      <td>0.0</td>\n",
       "      <td>1000-1200</td>\n",
       "      <td>1.313725</td>\n",
       "      <td>1.313725</td>\n",
       "      <td>121</td>\n",
       "      <td>9</td>\n",
       "    </tr>\n",
       "  </tbody>\n",
       "</table>\n",
       "</div>"
      ],
      "text/plain": [
       "   Unnamed: 0            Race Time     Course              Horse  \\\n",
       "0           0  01/04/2022 13:00:00  Leicester       Camacho Star   \n",
       "1           1  01/04/2022 13:00:00  Leicester        Cheeky Maxi   \n",
       "2           2  01/04/2022 13:00:00  Leicester      Global Effort   \n",
       "3           3  01/04/2022 13:00:00  Leicester          Jiffy Boy   \n",
       "4           4  01/04/2022 13:00:00  Leicester  Man Made Of Smoke   \n",
       "\n",
       "   Distance (y)  SP Odds Decimal  Won (1=Won, 0=Lost)  \\\n",
       "0          1100                4                    0   \n",
       "1          1100                3                    0   \n",
       "2          1100               13                    0   \n",
       "3          1100                5                    1   \n",
       "4          1100               67                    0   \n",
       "\n",
       "   Place (1=Placed, 0=UnPlaced)  Pace Rating Rank  Trainer/Jky Stats Rank  \\\n",
       "0                             0                 2                       3   \n",
       "1                             0                 2                       7   \n",
       "2                             0                 2                       2   \n",
       "3                             0                 2                      11   \n",
       "4                             0                 2                       6   \n",
       "\n",
       "   Proform Speed Rating  LTO Speed Rating Rank  MR Career Speed Rating Rank  \\\n",
       "0                    23                      3                            3   \n",
       "1                    24                      3                            3   \n",
       "2                    42                      3                            3   \n",
       "3                    46                      1                            1   \n",
       "4                    35                      3                            3   \n",
       "\n",
       "   WON SR Before  Won P/L Before  Plc SR Before  Official Rating LTO  \\\n",
       "0            0.0             0.0            0.0                  0.0   \n",
       "1            0.0             0.0            0.0                  0.0   \n",
       "2            0.0             0.0            0.0                  0.0   \n",
       "3            0.0            -1.0          100.0                  0.0   \n",
       "4            0.0             0.0            0.0                  0.0   \n",
       "\n",
       "   Position LTO distance_bucket  evening_morning_price  \\\n",
       "0           0.0       1000-1200               0.833333   \n",
       "1           0.0       1000-1200               0.750000   \n",
       "2           0.0       1000-1200               1.000000   \n",
       "3           3.0       1000-1200               1.500000   \n",
       "4           0.0       1000-1200               1.313725   \n",
       "\n",
       "   breakfast_morning_price  weight  sp_odds_rank  \n",
       "0                 0.909091     131             2  \n",
       "1                 0.750000     131             1  \n",
       "2                 1.000000     131             6  \n",
       "3                 1.500000     131             3  \n",
       "4                 1.313725     121             9  "
      ]
     },
     "execution_count": 2,
     "metadata": {},
     "output_type": "execute_result"
    }
   ],
   "source": [
    "data = pd.read_csv('../data/modelling_data.csv')\n",
    "data.head()"
   ]
  },
  {
   "cell_type": "code",
   "execution_count": 3,
   "metadata": {},
   "outputs": [
    {
     "data": {
      "text/plain": [
       "array(['1000-1200', '1200-1400', '2400-2600', '2200-2400', '1400-1600',\n",
       "       '1600-1800', '2000-2200', '1800-2000', '2600-2800', '3000-3200',\n",
       "       '2800-3000', '3400-3600'], dtype=object)"
      ]
     },
     "execution_count": 3,
     "metadata": {},
     "output_type": "execute_result"
    }
   ],
   "source": [
    "data['distance_bucket'].unique()"
   ]
  },
  {
   "cell_type": "markdown",
   "metadata": {},
   "source": [
    "Create a df with 5 independent features and 'Won (1=Won, 0=Lost)' as the dependent variable"
   ]
  },
  {
   "cell_type": "code",
   "execution_count": 4,
   "metadata": {},
   "outputs": [],
   "source": [
    "df = data[['Race Time', 'Course', 'Horse', 'Distance (y)','distance_bucket', 'Won (1=Won, 0=Lost)', 'SP Odds Decimal', 'weight', \n",
    "           'Proform Speed Rating', 'Won P/L Before', 'evening_morning_price']]"
   ]
  },
  {
   "cell_type": "code",
   "execution_count": 5,
   "metadata": {},
   "outputs": [
    {
     "data": {
      "text/html": [
       "<div>\n",
       "<style scoped>\n",
       "    .dataframe tbody tr th:only-of-type {\n",
       "        vertical-align: middle;\n",
       "    }\n",
       "\n",
       "    .dataframe tbody tr th {\n",
       "        vertical-align: top;\n",
       "    }\n",
       "\n",
       "    .dataframe thead th {\n",
       "        text-align: right;\n",
       "    }\n",
       "</style>\n",
       "<table border=\"1\" class=\"dataframe\">\n",
       "  <thead>\n",
       "    <tr style=\"text-align: right;\">\n",
       "      <th></th>\n",
       "      <th>Race Time</th>\n",
       "      <th>Course</th>\n",
       "      <th>Horse</th>\n",
       "      <th>Distance (y)</th>\n",
       "      <th>distance_bucket</th>\n",
       "      <th>Won (1=Won, 0=Lost)</th>\n",
       "      <th>SP Odds Decimal</th>\n",
       "      <th>weight</th>\n",
       "      <th>Proform Speed Rating</th>\n",
       "      <th>Won P/L Before</th>\n",
       "      <th>evening_morning_price</th>\n",
       "    </tr>\n",
       "  </thead>\n",
       "  <tbody>\n",
       "    <tr>\n",
       "      <th>0</th>\n",
       "      <td>01/04/2022 13:00:00</td>\n",
       "      <td>Leicester</td>\n",
       "      <td>Camacho Star</td>\n",
       "      <td>1100</td>\n",
       "      <td>1000-1200</td>\n",
       "      <td>0</td>\n",
       "      <td>4</td>\n",
       "      <td>131</td>\n",
       "      <td>23</td>\n",
       "      <td>0.0</td>\n",
       "      <td>0.833333</td>\n",
       "    </tr>\n",
       "    <tr>\n",
       "      <th>1</th>\n",
       "      <td>01/04/2022 13:00:00</td>\n",
       "      <td>Leicester</td>\n",
       "      <td>Cheeky Maxi</td>\n",
       "      <td>1100</td>\n",
       "      <td>1000-1200</td>\n",
       "      <td>0</td>\n",
       "      <td>3</td>\n",
       "      <td>131</td>\n",
       "      <td>24</td>\n",
       "      <td>0.0</td>\n",
       "      <td>0.750000</td>\n",
       "    </tr>\n",
       "    <tr>\n",
       "      <th>2</th>\n",
       "      <td>01/04/2022 13:00:00</td>\n",
       "      <td>Leicester</td>\n",
       "      <td>Global Effort</td>\n",
       "      <td>1100</td>\n",
       "      <td>1000-1200</td>\n",
       "      <td>0</td>\n",
       "      <td>13</td>\n",
       "      <td>131</td>\n",
       "      <td>42</td>\n",
       "      <td>0.0</td>\n",
       "      <td>1.000000</td>\n",
       "    </tr>\n",
       "    <tr>\n",
       "      <th>3</th>\n",
       "      <td>01/04/2022 13:00:00</td>\n",
       "      <td>Leicester</td>\n",
       "      <td>Jiffy Boy</td>\n",
       "      <td>1100</td>\n",
       "      <td>1000-1200</td>\n",
       "      <td>1</td>\n",
       "      <td>5</td>\n",
       "      <td>131</td>\n",
       "      <td>46</td>\n",
       "      <td>-1.0</td>\n",
       "      <td>1.500000</td>\n",
       "    </tr>\n",
       "    <tr>\n",
       "      <th>4</th>\n",
       "      <td>01/04/2022 13:00:00</td>\n",
       "      <td>Leicester</td>\n",
       "      <td>Man Made Of Smoke</td>\n",
       "      <td>1100</td>\n",
       "      <td>1000-1200</td>\n",
       "      <td>0</td>\n",
       "      <td>67</td>\n",
       "      <td>121</td>\n",
       "      <td>35</td>\n",
       "      <td>0.0</td>\n",
       "      <td>1.313725</td>\n",
       "    </tr>\n",
       "  </tbody>\n",
       "</table>\n",
       "</div>"
      ],
      "text/plain": [
       "             Race Time     Course              Horse  Distance (y)  \\\n",
       "0  01/04/2022 13:00:00  Leicester       Camacho Star          1100   \n",
       "1  01/04/2022 13:00:00  Leicester        Cheeky Maxi          1100   \n",
       "2  01/04/2022 13:00:00  Leicester      Global Effort          1100   \n",
       "3  01/04/2022 13:00:00  Leicester          Jiffy Boy          1100   \n",
       "4  01/04/2022 13:00:00  Leicester  Man Made Of Smoke          1100   \n",
       "\n",
       "  distance_bucket  Won (1=Won, 0=Lost)  SP Odds Decimal  weight  \\\n",
       "0       1000-1200                    0                4     131   \n",
       "1       1000-1200                    0                3     131   \n",
       "2       1000-1200                    0               13     131   \n",
       "3       1000-1200                    1                5     131   \n",
       "4       1000-1200                    0               67     121   \n",
       "\n",
       "   Proform Speed Rating  Won P/L Before  evening_morning_price  \n",
       "0                    23             0.0               0.833333  \n",
       "1                    24             0.0               0.750000  \n",
       "2                    42             0.0               1.000000  \n",
       "3                    46            -1.0               1.500000  \n",
       "4                    35             0.0               1.313725  "
      ]
     },
     "execution_count": 5,
     "metadata": {},
     "output_type": "execute_result"
    }
   ],
   "source": [
    "df.head(5)"
   ]
  },
  {
   "cell_type": "code",
   "execution_count": 6,
   "metadata": {},
   "outputs": [
    {
     "name": "stderr",
     "output_type": "stream",
     "text": [
      "/var/folders/nv/lzp9ffbj6cs24kjrpcj0q1ym0000gn/T/ipykernel_7285/4053749811.py:1: SettingWithCopyWarning: \n",
      "A value is trying to be set on a copy of a slice from a DataFrame.\n",
      "Try using .loc[row_indexer,col_indexer] = value instead\n",
      "\n",
      "See the caveats in the documentation: https://pandas.pydata.org/pandas-docs/stable/user_guide/indexing.html#returning-a-view-versus-a-copy\n",
      "  df['SP Odds Decimal1'] = df['SP Odds Decimal']\n"
     ]
    }
   ],
   "source": [
    "df['SP Odds Decimal1'] = df['SP Odds Decimal']"
   ]
  },
  {
   "cell_type": "code",
   "execution_count": 7,
   "metadata": {},
   "outputs": [
    {
     "data": {
      "text/html": [
       "<div>\n",
       "<style scoped>\n",
       "    .dataframe tbody tr th:only-of-type {\n",
       "        vertical-align: middle;\n",
       "    }\n",
       "\n",
       "    .dataframe tbody tr th {\n",
       "        vertical-align: top;\n",
       "    }\n",
       "\n",
       "    .dataframe thead th {\n",
       "        text-align: right;\n",
       "    }\n",
       "</style>\n",
       "<table border=\"1\" class=\"dataframe\">\n",
       "  <thead>\n",
       "    <tr style=\"text-align: right;\">\n",
       "      <th></th>\n",
       "      <th>Race Time</th>\n",
       "      <th>Course</th>\n",
       "      <th>Horse</th>\n",
       "      <th>Distance (y)</th>\n",
       "      <th>distance_bucket</th>\n",
       "      <th>Won (1=Won, 0=Lost)</th>\n",
       "      <th>SP Odds Decimal</th>\n",
       "      <th>weight</th>\n",
       "      <th>Proform Speed Rating</th>\n",
       "      <th>Won P/L Before</th>\n",
       "      <th>evening_morning_price</th>\n",
       "      <th>SP Odds Decimal1</th>\n",
       "    </tr>\n",
       "  </thead>\n",
       "  <tbody>\n",
       "    <tr>\n",
       "      <th>0</th>\n",
       "      <td>01/04/2022 13:00:00</td>\n",
       "      <td>Leicester</td>\n",
       "      <td>Camacho Star</td>\n",
       "      <td>1100</td>\n",
       "      <td>1000-1200</td>\n",
       "      <td>0</td>\n",
       "      <td>0.006</td>\n",
       "      <td>0.647059</td>\n",
       "      <td>0.264368</td>\n",
       "      <td>0.129663</td>\n",
       "      <td>0.072046</td>\n",
       "      <td>4</td>\n",
       "    </tr>\n",
       "    <tr>\n",
       "      <th>1</th>\n",
       "      <td>01/04/2022 13:00:00</td>\n",
       "      <td>Leicester</td>\n",
       "      <td>Cheeky Maxi</td>\n",
       "      <td>1100</td>\n",
       "      <td>1000-1200</td>\n",
       "      <td>0</td>\n",
       "      <td>0.004</td>\n",
       "      <td>0.647059</td>\n",
       "      <td>0.275862</td>\n",
       "      <td>0.129663</td>\n",
       "      <td>0.063279</td>\n",
       "      <td>3</td>\n",
       "    </tr>\n",
       "    <tr>\n",
       "      <th>2</th>\n",
       "      <td>01/04/2022 13:00:00</td>\n",
       "      <td>Leicester</td>\n",
       "      <td>Global Effort</td>\n",
       "      <td>1100</td>\n",
       "      <td>1000-1200</td>\n",
       "      <td>0</td>\n",
       "      <td>0.024</td>\n",
       "      <td>0.647059</td>\n",
       "      <td>0.482759</td>\n",
       "      <td>0.129663</td>\n",
       "      <td>0.089580</td>\n",
       "      <td>13</td>\n",
       "    </tr>\n",
       "    <tr>\n",
       "      <th>3</th>\n",
       "      <td>01/04/2022 13:00:00</td>\n",
       "      <td>Leicester</td>\n",
       "      <td>Jiffy Boy</td>\n",
       "      <td>1100</td>\n",
       "      <td>1000-1200</td>\n",
       "      <td>1</td>\n",
       "      <td>0.008</td>\n",
       "      <td>0.647059</td>\n",
       "      <td>0.528736</td>\n",
       "      <td>0.126110</td>\n",
       "      <td>0.142182</td>\n",
       "      <td>5</td>\n",
       "    </tr>\n",
       "    <tr>\n",
       "      <th>4</th>\n",
       "      <td>01/04/2022 13:00:00</td>\n",
       "      <td>Leicester</td>\n",
       "      <td>Man Made Of Smoke</td>\n",
       "      <td>1100</td>\n",
       "      <td>1000-1200</td>\n",
       "      <td>0</td>\n",
       "      <td>0.132</td>\n",
       "      <td>0.450980</td>\n",
       "      <td>0.402299</td>\n",
       "      <td>0.129663</td>\n",
       "      <td>0.122585</td>\n",
       "      <td>67</td>\n",
       "    </tr>\n",
       "  </tbody>\n",
       "</table>\n",
       "</div>"
      ],
      "text/plain": [
       "             Race Time     Course              Horse  Distance (y)  \\\n",
       "0  01/04/2022 13:00:00  Leicester       Camacho Star          1100   \n",
       "1  01/04/2022 13:00:00  Leicester        Cheeky Maxi          1100   \n",
       "2  01/04/2022 13:00:00  Leicester      Global Effort          1100   \n",
       "3  01/04/2022 13:00:00  Leicester          Jiffy Boy          1100   \n",
       "4  01/04/2022 13:00:00  Leicester  Man Made Of Smoke          1100   \n",
       "\n",
       "  distance_bucket  Won (1=Won, 0=Lost)  SP Odds Decimal    weight  \\\n",
       "0       1000-1200                    0            0.006  0.647059   \n",
       "1       1000-1200                    0            0.004  0.647059   \n",
       "2       1000-1200                    0            0.024  0.647059   \n",
       "3       1000-1200                    1            0.008  0.647059   \n",
       "4       1000-1200                    0            0.132  0.450980   \n",
       "\n",
       "   Proform Speed Rating  Won P/L Before  evening_morning_price  \\\n",
       "0              0.264368        0.129663               0.072046   \n",
       "1              0.275862        0.129663               0.063279   \n",
       "2              0.482759        0.129663               0.089580   \n",
       "3              0.528736        0.126110               0.142182   \n",
       "4              0.402299        0.129663               0.122585   \n",
       "\n",
       "   SP Odds Decimal1  \n",
       "0                 4  \n",
       "1                 3  \n",
       "2                13  \n",
       "3                 5  \n",
       "4                67  "
      ]
     },
     "execution_count": 7,
     "metadata": {},
     "output_type": "execute_result"
    }
   ],
   "source": [
    "normalized_df = DataCleaning.normalize_columns(df, ['SP Odds Decimal', 'weight', \n",
    "           'Proform Speed Rating', 'Won P/L Before', 'evening_morning_price'])\n",
    "\n",
    "normalized_df.head(5)"
   ]
  },
  {
   "cell_type": "code",
   "execution_count": 8,
   "metadata": {},
   "outputs": [],
   "source": [
    "train_data, test_data = DataCleaning.split_data(df = normalized_df)\n",
    "\n",
    "X_train = train_data[['SP Odds Decimal', 'weight', 'Proform Speed Rating', 'Won P/L Before', 'evening_morning_price']]\n",
    "y_train = train_data['Won (1=Won, 0=Lost)']\n",
    "\n",
    "X_test = test_data[['SP Odds Decimal', 'weight', 'Proform Speed Rating', 'Won P/L Before', 'evening_morning_price']]\n",
    "y_test = test_data['Won (1=Won, 0=Lost)']\n"
   ]
  },
  {
   "cell_type": "code",
   "execution_count": 9,
   "metadata": {},
   "outputs": [
    {
     "name": "stdout",
     "output_type": "stream",
     "text": [
      "Count of unique races in the test data is 1149\n"
     ]
    }
   ],
   "source": [
    "# count of unique races\n",
    "unique_race_count = test_data['Race Time'].nunique()\n",
    "\n",
    "print(f'Count of unique races in the test data is {unique_race_count}')"
   ]
  },
  {
   "cell_type": "markdown",
   "metadata": {},
   "source": [
    "# Use grid search to idenify the best hyperparameters for the model"
   ]
  },
  {
   "cell_type": "code",
   "execution_count": 10,
   "metadata": {},
   "outputs": [],
   "source": [
    "%%script false --no-raise-error\n",
    "\n",
    "est_data_ = test_data.copy()\n",
    "\n",
    "param_grid = {\n",
    "    'n_estimators': [100, 200],\n",
    "    'max_depth': [None, 10, 20],\n",
    "    'min_samples_split': [2, 5],\n",
    "    'min_samples_leaf': [1, 2]\n",
    "}\n",
    "\n",
    "grid_search = GridSearchCV(RandomForestClassifier(random_state=42), param_grid, cv=5, scoring='f1')\n",
    "grid_search.fit(X_train, y_train)\n",
    "best_model = grid_search.best_estimator_\n",
    "\n",
    "y_pred1 = best_model.predict(X_test)\n",
    "test_data_['model_preds'] = y_pred1\n",
    "print_metrics(y_test, y_pred1)"
   ]
  },
  {
   "cell_type": "markdown",
   "metadata": {},
   "source": [
    "# Run the data through a random forest classifier."
   ]
  },
  {
   "cell_type": "code",
   "execution_count": 11,
   "metadata": {},
   "outputs": [
    {
     "name": "stdout",
     "output_type": "stream",
     "text": [
      "\n",
      "Confusion Matrix: \n",
      "[[8714  302]\n",
      " [ 916  235]]\n",
      "Accuracy: 0.880200649159044\n",
      "Precision: 0.4376163873370577\n",
      "Recall: 0.20417028670721113\n",
      "F1 score: 0.278436018957346\n",
      "ROC AUC score: 0.5853371398043598\n"
     ]
    },
    {
     "name": "stderr",
     "output_type": "stream",
     "text": [
      "/Users/andrewbarwise/miniforge3/envs/horse_trading/lib/python3.11/site-packages/_distutils_hack/__init__.py:33: UserWarning: Setuptools is replacing distutils.\n",
      "  warnings.warn(\"Setuptools is replacing distutils.\")\n"
     ]
    }
   ],
   "source": [
    "test_data1 = test_data.copy()\n",
    "\n",
    "# Instantiate and train the Random Forest classifier\n",
    "params = {\n",
    "    'n_estimators' : 100,\n",
    "    'random_state' : 42\n",
    "}\n",
    "with mlflow.start_run():\n",
    "    # Log the hyperparameters\n",
    "    mlflow.log_params(params)\n",
    "\n",
    "    rf_classifier = RandomForestClassifier(**params)\n",
    "    rf_classifier.fit(X_train, y_train)\n",
    "\n",
    "    # Log the trained model\n",
    "    mlflow.sklearn.log_model(rf_classifier, \"random_forest_model\")\n",
    "\n",
    "    # Make predictions on the test set\n",
    "    y_pred = rf_classifier.predict(X_test)\n",
    "\n",
    "    test_data1['model_preds'] = y_pred\n",
    "\n",
    "    # Evaluate the model\n",
    "    # use the eval method\n",
    "    print_metrics(y_test, y_pred)\n",
    "    mlflow.end_run()\n",
    "\n",
    "with open('../models/base_model.pkl', 'wb') as f:\n",
    "    pickle.dump(rf_classifier, f)"
   ]
  },
  {
   "cell_type": "code",
   "execution_count": 12,
   "metadata": {},
   "outputs": [
    {
     "name": "stdout",
     "output_type": "stream",
     "text": [
      "Total number of bets: 537\n",
      "Total return from betting £1.00 on each prediction where model_preds == 1: £166.00\n",
      "Return per pound invested: £0.31\n",
      "Model accuracy: 43.76%\n"
     ]
    }
   ],
   "source": [
    "profit_calculation(test_data1)"
   ]
  },
  {
   "cell_type": "code",
   "execution_count": 13,
   "metadata": {},
   "outputs": [
    {
     "name": "stdout",
     "output_type": "stream",
     "text": [
      "\n",
      "Confusion Matrix: \n",
      "[[8714  302]\n",
      " [ 916  235]]\n",
      "Accuracy: 0.880200649159044\n",
      "Precision: 0.4376163873370577\n",
      "Recall: 0.20417028670721113\n",
      "F1 score: 0.278436018957346\n",
      "ROC AUC score: 0.5853371398043598\n"
     ]
    }
   ],
   "source": [
    "test_data2 = test_data.copy()\n",
    "\n",
    "\n",
    "# Example class weights for an imbalanced dataset\n",
    "class_weights = {0: 1, 1: 5}\n",
    "\n",
    "# Initialize and fit the RandomForest model\n",
    "model = RandomForestClassifier(class_weight=class_weights, max_depth=10, min_samples_leaf=5)\n",
    "model.fit(X_train, y_train)\n",
    "\n",
    "# Predictions and evaluation\n",
    "y_pred1 = model.predict(X_test)\n",
    "\n",
    "test_data2['model_preds'] = y_pred\n",
    "\n",
    "print_metrics(y_test, y_pred)\n"
   ]
  },
  {
   "cell_type": "code",
   "execution_count": 14,
   "metadata": {},
   "outputs": [
    {
     "name": "stdout",
     "output_type": "stream",
     "text": [
      "Total number of bets: 537\n",
      "Total return from betting £1.00 on each prediction where model_preds == 1: £166.00\n",
      "Return per pound invested: £0.31\n",
      "Model accuracy: 43.76%\n"
     ]
    }
   ],
   "source": [
    "profit_calculation(test_data2)"
   ]
  },
  {
   "cell_type": "markdown",
   "metadata": {},
   "source": [
    "# Instantiate and train the Gradient Boosting classifier"
   ]
  },
  {
   "cell_type": "code",
   "execution_count": 15,
   "metadata": {},
   "outputs": [],
   "source": [
    "%%script false --no-raise-error\n",
    "\n",
    "test_data_gbm = test_data.copy()\n",
    "\n",
    "# Instantiate the Gradient Boosting Classifier\n",
    "gbm = GradientBoostingClassifier()\n",
    "\n",
    "param_grid = {\n",
    "    'n_estimators': [50, 100, 200],\n",
    "    'learning_rate': [0.01, 0.1, 0.2],\n",
    "    'max_depth': [3, 5, 7],\n",
    "    'min_samples_split': [2, 5, 10],\n",
    "    'min_samples_leaf': [1, 2, 4]\n",
    "}\n",
    "\n",
    "# Instantiate the GridSearchCV object\n",
    "grid_search = GridSearchCV(estimator=gbm, param_grid=param_grid, cv=5, scoring='f1', n_jobs=-1, verbose=2)\n",
    "\n",
    "# Fit Grid Search\n",
    "grid_search.fit(X_train, y_train)\n",
    "\n",
    "# Get the best parameters\n",
    "best_params = grid_search.best_params_\n",
    "print(f\"Best parameters: {best_params}\")\n",
    "\n",
    "# Get the best model\n",
    "best_model = grid_search.best_estimator_\n",
    "\n",
    "# Evaluate the best model on the test set\n",
    "y_pred_gbm = best_model.predict(X_test)\n",
    "\n",
    "test_data_gbm['model_preds'] = y_pred_gbm\n",
    "\n",
    "print_metrics(y_test, y_pred_gbm)\n"
   ]
  },
  {
   "cell_type": "code",
   "execution_count": 16,
   "metadata": {},
   "outputs": [],
   "source": [
    "%%script false --no-raise-error\n",
    "\n",
    "profit_calculation(test_data_gbm)"
   ]
  },
  {
   "cell_type": "code",
   "execution_count": 17,
   "metadata": {},
   "outputs": [
    {
     "name": "stdout",
     "output_type": "stream",
     "text": [
      "\n",
      "Confusion Matrix: \n",
      "[[8873  143]\n",
      " [ 965  186]]\n",
      "Accuracy: 0.8910199665584735\n",
      "Precision: 0.5653495440729484\n",
      "Recall: 0.16159860990443092\n",
      "F1 score: 0.2513513513513514\n",
      "ROC AUC score: 0.5728689589007514\n"
     ]
    }
   ],
   "source": [
    "# Instantiate and train the Gradient Boosting classifier\n",
    "\n",
    "test_data3 = test_data.copy()\n",
    "\n",
    "gb_classifier = GradientBoostingClassifier(n_estimators=100, random_state=42)\n",
    "gb_classifier.fit(X_train, y_train)\n",
    "\n",
    "# Make predictions on the test set\n",
    "y_pred_gb = gb_classifier.predict(X_test)\n",
    "\n",
    "test_data3['model_preds'] = y_pred_gb\n",
    "\n",
    "print_metrics(y_test, y_pred_gb)"
   ]
  },
  {
   "cell_type": "code",
   "execution_count": 18,
   "metadata": {},
   "outputs": [
    {
     "name": "stdout",
     "output_type": "stream",
     "text": [
      "Total number of bets: 329\n",
      "Total return from betting £1.00 on each prediction where model_preds == 1: £78.00\n",
      "Return per pound invested: £0.24\n",
      "Model accuracy: 56.53%\n"
     ]
    }
   ],
   "source": [
    "profit_calculation(test_data3)"
   ]
  },
  {
   "cell_type": "code",
   "execution_count": 19,
   "metadata": {},
   "outputs": [
    {
     "name": "stdout",
     "output_type": "stream",
     "text": [
      "\n",
      "Confusion Matrix: \n",
      "[[8873  143]\n",
      " [ 965  186]]\n",
      "Accuracy: 0.8910199665584735\n",
      "Precision: 0.5653495440729484\n",
      "Recall: 0.16159860990443092\n",
      "F1 score: 0.2513513513513514\n",
      "ROC AUC score: 0.5728689589007514\n"
     ]
    }
   ],
   "source": [
    "test_data4 = test_data.copy()\n",
    "\n",
    "model = XGBClassifier(reg_lambda=1, reg_alpha=0)\n",
    "model.fit(X_train, y_train)\n",
    "\n",
    "# Make predictions on the test set\n",
    "y_pred_xgb = model.predict(X_test)\n",
    "\n",
    "test_data4['model_preds'] = y_pred_xgb\n",
    "\n",
    "print_metrics(y_test, y_pred_gb)"
   ]
  },
  {
   "cell_type": "code",
   "execution_count": 20,
   "metadata": {},
   "outputs": [
    {
     "name": "stdout",
     "output_type": "stream",
     "text": [
      "Total number of bets: 415\n",
      "Total return from betting £1.00 on each prediction where model_preds == 1: £178.00\n",
      "Return per pound invested: £0.43\n",
      "Model accuracy: 53.98%\n"
     ]
    }
   ],
   "source": [
    "profit_calculation(test_data4)"
   ]
  },
  {
   "cell_type": "markdown",
   "metadata": {},
   "source": [
    "# Look at utilizing Random Oversampling on the dataset. This is due to the imbalanced nature of the target column."
   ]
  },
  {
   "cell_type": "code",
   "execution_count": 21,
   "metadata": {},
   "outputs": [
    {
     "name": "stdout",
     "output_type": "stream",
     "text": [
      "Length of  X_train: 41363\n",
      "Length of y_train: 41363\n",
      "\n",
      "Length of  X_resampled: 73520\n",
      "Length of y_resampled: 73520\n"
     ]
    }
   ],
   "source": [
    "# Apply Random Oversampling\n",
    "ros = RandomOverSampler(random_state=42)\n",
    "X_resampled, y_resampled = ros.fit_resample(X_train, y_train)\n",
    "\n",
    "print(f\"Length of  X_train: {len(X_train)}\\nLength of y_train: {len(y_train)}\")\n",
    "print(f\"\\nLength of  X_resampled: {len(X_resampled)}\\nLength of y_resampled: {len(y_resampled)}\")"
   ]
  },
  {
   "cell_type": "code",
   "execution_count": 22,
   "metadata": {},
   "outputs": [
    {
     "name": "stdout",
     "output_type": "stream",
     "text": [
      "\n",
      "Confusion Matrix: \n",
      "[[6643 2373]\n",
      " [ 214  937]]\n",
      "Accuracy: 0.7455493262515983\n",
      "Precision: 0.28308157099697884\n",
      "Recall: 0.8140747176368376\n",
      "F1 score: 0.4200851826944631\n",
      "ROC AUC score: 0.7754379799364313\n"
     ]
    }
   ],
   "source": [
    "# Instantiate and train the Gradient Boosting classifier\n",
    "test_data5 = test_data.copy()\n",
    "\n",
    "gb_classifier = GradientBoostingClassifier(n_estimators=100, random_state=42)\n",
    "gb_classifier.fit(X_resampled, y_resampled)\n",
    "\n",
    "# Make predictions on the test set\n",
    "y_pred_gbx = gb_classifier.predict(X_test)\n",
    "\n",
    "test_data5['model_preds'] = y_pred_gbx\n",
    "\n",
    "print_metrics(y_test, y_pred_gbx)"
   ]
  },
  {
   "cell_type": "code",
   "execution_count": 23,
   "metadata": {},
   "outputs": [
    {
     "name": "stdout",
     "output_type": "stream",
     "text": [
      "Total number of bets: 3310\n",
      "Total return from betting £1.00 on each prediction where model_preds == 1: £1359.00\n",
      "Return per pound invested: £0.41\n",
      "Model accuracy: 28.31%\n"
     ]
    }
   ],
   "source": [
    "profit_calculation(test_data5)"
   ]
  },
  {
   "cell_type": "markdown",
   "metadata": {},
   "source": [
    "# Try an approach using smote"
   ]
  },
  {
   "cell_type": "code",
   "execution_count": 24,
   "metadata": {},
   "outputs": [
    {
     "name": "stdout",
     "output_type": "stream",
     "text": [
      "\n",
      "Confusion Matrix: \n",
      "[[8714  302]\n",
      " [ 916  235]]\n",
      "Accuracy: 0.880200649159044\n",
      "Precision: 0.4376163873370577\n",
      "Recall: 0.20417028670721113\n",
      "F1 score: 0.278436018957346\n",
      "ROC AUC score: 0.5853371398043598\n"
     ]
    }
   ],
   "source": [
    "test_data6 = test_data.copy()\n",
    "\n",
    "smote= SMOTE(random_state=42)\n",
    "\n",
    "X_train_smote, y_train_smote = smote.fit_resample(X_train, y_train)\n",
    "\n",
    "gb_classifier = GradientBoostingClassifier(n_estimators=100, random_state=42)\n",
    "gb_classifier.fit(X_train_smote, y_train_smote)\n",
    "\n",
    "# Make predictions on the test set\n",
    "y_pred_gbs = gb_classifier.predict(X_test)\n",
    "\n",
    "test_data6['model_preds'] = y_pred_gbs\n",
    "\n",
    "# Evaluate the model\n",
    "# use the eval method\n",
    "print_metrics(y_test, y_pred)"
   ]
  },
  {
   "cell_type": "code",
   "execution_count": 25,
   "metadata": {},
   "outputs": [
    {
     "name": "stdout",
     "output_type": "stream",
     "text": [
      "Total number of bets: 1773\n",
      "Total return from betting £1.00 on each prediction where model_preds == 1: £656.00\n",
      "Return per pound invested: £0.37\n",
      "Model accuracy: 34.63%\n"
     ]
    }
   ],
   "source": [
    "profit_calculation(test_data6)"
   ]
  },
  {
   "cell_type": "code",
   "execution_count": 26,
   "metadata": {},
   "outputs": [
    {
     "name": "stdout",
     "output_type": "stream",
     "text": [
      "\n",
      "Confusion Matrix: \n",
      "[[8497  519]\n",
      " [ 830  321]]\n",
      "Accuracy: 0.8673158257106325\n",
      "Precision: 0.3821428571428571\n",
      "Recall: 0.2788879235447437\n",
      "F1 score: 0.32245102963335004\n",
      "ROC AUC score: 0.6106617967324428\n"
     ]
    }
   ],
   "source": [
    "test_data7 = test_data.copy()\n",
    "\n",
    "X_train_smote, y_train_smote = smote.fit_resample(X_train, y_train)\n",
    "\n",
    "rf_classifier = RandomForestClassifier(**params)\n",
    "rf_classifier.fit(X_train_smote, y_train_smote)\n",
    "\n",
    "# Make predictions on the test set\n",
    "y_pred = rf_classifier.predict(X_test)\n",
    "\n",
    "test_data7['model_preds'] = y_pred\n",
    "\n",
    "# Evaluate the model\n",
    "# use the eval method\n",
    "print_metrics(y_test, y_pred)"
   ]
  },
  {
   "cell_type": "code",
   "execution_count": 27,
   "metadata": {},
   "outputs": [
    {
     "name": "stdout",
     "output_type": "stream",
     "text": [
      "Total number of bets: 840\n",
      "Total return from betting £1.00 on each prediction where model_preds == 1: £252.00\n",
      "Return per pound invested: £0.30\n",
      "Model accuracy: 38.21%\n"
     ]
    }
   ],
   "source": [
    "profit_calculation(test_data7)"
   ]
  },
  {
   "cell_type": "code",
   "execution_count": 28,
   "metadata": {},
   "outputs": [
    {
     "name": "stdout",
     "output_type": "stream",
     "text": [
      "\n",
      "Confusion Matrix: \n",
      "[[8700  316]\n",
      " [ 933  218]]\n",
      "Accuracy: 0.877151568801023\n",
      "Precision: 0.40823970037453183\n",
      "Recall: 0.1894005212858384\n",
      "F1 score: 0.2587537091988131\n",
      "ROC AUC score: 0.5771758595781455\n"
     ]
    }
   ],
   "source": [
    "test_data8 = test_data.copy()\n",
    "\n",
    "# Assume X_train, X_test, y_train, y_test are already defined\n",
    "# Setting class_weight to 'balanced' makes the algorithm cost-sensitive\n",
    "model = RandomForestClassifier(class_weight='balanced')\n",
    "\n",
    "# Training the model\n",
    "model.fit(X_train, y_train)\n",
    "\n",
    "# Predictions\n",
    "y_predx = model.predict(X_test)\n",
    "\n",
    "test_data8['model_preds'] = y_predx\n",
    "\n",
    "# Evaluation\n",
    "print_metrics(y_test, y_predx)"
   ]
  },
  {
   "cell_type": "code",
   "execution_count": 29,
   "metadata": {},
   "outputs": [
    {
     "name": "stdout",
     "output_type": "stream",
     "text": [
      "Total number of bets: 534\n",
      "Total return from betting £1.00 on each prediction where model_preds == 1: £53.00\n",
      "Return per pound invested: £0.10\n",
      "Model accuracy: 40.82%\n"
     ]
    }
   ],
   "source": [
    "profit_calculation(test_data8)"
   ]
  },
  {
   "cell_type": "code",
   "execution_count": 30,
   "metadata": {},
   "outputs": [
    {
     "name": "stdout",
     "output_type": "stream",
     "text": [
      "\n",
      "Confusion Matrix: \n",
      "[[7353 1663]\n",
      " [ 393  758]]\n",
      "Accuracy: 0.7977771220615717\n",
      "Precision: 0.3130937629078893\n",
      "Recall: 0.6585577758470895\n",
      "F1 score: 0.4244120940649496\n",
      "ROC AUC score: 0.7370539544719032\n"
     ]
    }
   ],
   "source": [
    "test_data9 = test_data.copy()\n",
    "\n",
    "# Define cost matrix\n",
    "C_FN = 5  # Cost of false negative\n",
    "C_FP = 1  # Cost of false positive\n",
    "\n",
    "# Assuming y_train has values 0 and 1\n",
    "weights = np.ones(y_train.shape[0])\n",
    "weights[y_train == 1] = C_FN\n",
    "weights[y_train == 0] = C_FP\n",
    "\n",
    "# Train logistic regression model with custom weights\n",
    "model = LogisticRegression()\n",
    "model.fit(X_train, y_train, sample_weight=weights)\n",
    "\n",
    "# Predictions\n",
    "y_predz = model.predict(X_test)\n",
    "\n",
    "test_data9['model_preds'] = y_predz\n",
    "\n",
    "# Evaluation\n",
    "print_metrics(y_test, y_predz)\n"
   ]
  },
  {
   "cell_type": "code",
   "execution_count": 31,
   "metadata": {},
   "outputs": [
    {
     "name": "stdout",
     "output_type": "stream",
     "text": [
      "Total number of bets: 2421\n",
      "Total return from betting £1.00 on each prediction where model_preds == 1: £1442.00\n",
      "Return per pound invested: £0.60\n",
      "Model accuracy: 31.31%\n"
     ]
    }
   ],
   "source": [
    "profit_calculation(test_data9)"
   ]
  },
  {
   "cell_type": "markdown",
   "metadata": {},
   "source": [
    "# Try a tensorflow model"
   ]
  },
  {
   "cell_type": "code",
   "execution_count": 32,
   "metadata": {},
   "outputs": [
    {
     "name": "stdout",
     "output_type": "stream",
     "text": [
      "Epoch 1/10\n"
     ]
    },
    {
     "name": "stderr",
     "output_type": "stream",
     "text": [
      "/Users/andrewbarwise/miniforge3/envs/horse_trading/lib/python3.11/site-packages/keras/src/layers/core/dense.py:87: UserWarning: Do not pass an `input_shape`/`input_dim` argument to a layer. When using Sequential models, prefer using an `Input(shape)` object as the first layer in the model instead.\n",
      "  super().__init__(activity_regularizer=activity_regularizer, **kwargs)\n"
     ]
    },
    {
     "name": "stdout",
     "output_type": "stream",
     "text": [
      "\u001b[1m1293/1293\u001b[0m \u001b[32m━━━━━━━━━━━━━━━━━━━━\u001b[0m\u001b[37m\u001b[0m \u001b[1m1s\u001b[0m 490us/step - accuracy: 0.8879 - loss: 0.3551 - val_accuracy: 0.8868 - val_loss: 0.2773\n",
      "Epoch 2/10\n",
      "\u001b[1m1293/1293\u001b[0m \u001b[32m━━━━━━━━━━━━━━━━━━━━\u001b[0m\u001b[37m\u001b[0m \u001b[1m1s\u001b[0m 430us/step - accuracy: 0.8891 - loss: 0.2773 - val_accuracy: 0.8885 - val_loss: 0.2751\n",
      "Epoch 3/10\n",
      "\u001b[1m1293/1293\u001b[0m \u001b[32m━━━━━━━━━━━━━━━━━━━━\u001b[0m\u001b[37m\u001b[0m \u001b[1m1s\u001b[0m 456us/step - accuracy: 0.8894 - loss: 0.2738 - val_accuracy: 0.8873 - val_loss: 0.2749\n",
      "Epoch 4/10\n",
      "\u001b[1m1293/1293\u001b[0m \u001b[32m━━━━━━━━━━━━━━━━━━━━\u001b[0m\u001b[37m\u001b[0m \u001b[1m1s\u001b[0m 434us/step - accuracy: 0.8889 - loss: 0.2738 - val_accuracy: 0.8879 - val_loss: 0.2728\n",
      "Epoch 5/10\n",
      "\u001b[1m1293/1293\u001b[0m \u001b[32m━━━━━━━━━━━━━━━━━━━━\u001b[0m\u001b[37m\u001b[0m \u001b[1m1s\u001b[0m 448us/step - accuracy: 0.8897 - loss: 0.2682 - val_accuracy: 0.8878 - val_loss: 0.2738\n",
      "Epoch 6/10\n",
      "\u001b[1m1293/1293\u001b[0m \u001b[32m━━━━━━━━━━━━━━━━━━━━\u001b[0m\u001b[37m\u001b[0m \u001b[1m1s\u001b[0m 423us/step - accuracy: 0.8898 - loss: 0.2702 - val_accuracy: 0.8875 - val_loss: 0.2723\n",
      "Epoch 7/10\n",
      "\u001b[1m1293/1293\u001b[0m \u001b[32m━━━━━━━━━━━━━━━━━━━━\u001b[0m\u001b[37m\u001b[0m \u001b[1m1s\u001b[0m 428us/step - accuracy: 0.8907 - loss: 0.2706 - val_accuracy: 0.8890 - val_loss: 0.2707\n",
      "Epoch 8/10\n",
      "\u001b[1m1293/1293\u001b[0m \u001b[32m━━━━━━━━━━━━━━━━━━━━\u001b[0m\u001b[37m\u001b[0m \u001b[1m1s\u001b[0m 426us/step - accuracy: 0.8900 - loss: 0.2663 - val_accuracy: 0.8874 - val_loss: 0.2704\n",
      "Epoch 9/10\n",
      "\u001b[1m1293/1293\u001b[0m \u001b[32m━━━━━━━━━━━━━━━━━━━━\u001b[0m\u001b[37m\u001b[0m \u001b[1m1s\u001b[0m 422us/step - accuracy: 0.8902 - loss: 0.2678 - val_accuracy: 0.8892 - val_loss: 0.2700\n",
      "Epoch 10/10\n",
      "\u001b[1m1293/1293\u001b[0m \u001b[32m━━━━━━━━━━━━━━━━━━━━\u001b[0m\u001b[37m\u001b[0m \u001b[1m1s\u001b[0m 427us/step - accuracy: 0.8912 - loss: 0.2657 - val_accuracy: 0.8888 - val_loss: 0.2703\n",
      "\u001b[1m318/318\u001b[0m \u001b[32m━━━━━━━━━━━━━━━━━━━━\u001b[0m\u001b[37m\u001b[0m \u001b[1m0s\u001b[0m 278us/step\n",
      "\n",
      "Confusion Matrix: \n",
      "[[8984   32]\n",
      " [1099   52]]\n",
      "Accuracy: 0.8887577456476837\n",
      "Precision: 0.6190476190476191\n",
      "Recall: 0.045178105994787145\n",
      "F1 score: 0.08421052631578949\n",
      "ROC AUC score: 0.5208144301047583\n"
     ]
    }
   ],
   "source": [
    "test_data10 = test_data.copy()\n",
    "\n",
    "model = Sequential([\n",
    "    Dense(64, activation='relu', input_shape = (X_train.shape[1], )), # input layer\n",
    "    Dense(32, activation='relu'), # hidden layer\n",
    "    Dense(1, activation='sigmoid') # output layer for binary classification\n",
    "])\n",
    "\n",
    "# compile the model\n",
    "model.compile(optimizer='adam',\n",
    "              loss = 'binary_crossentropy',\n",
    "              metrics = ['accuracy'])\n",
    "\n",
    "# Train the model\n",
    "history = model.fit(X_train, y_train, epochs=10, batch_size=32, validation_data=(X_test, y_test))\n",
    "\n",
    "# Get model predictions as probabilities\n",
    "predictions = model.predict(X_test)\n",
    "\n",
    "# Convert probabilities to binary outcomes (0 or 1)\n",
    "predicted_classes = (predictions > 0.5).astype(\"int32\").flatten()\n",
    "\n",
    "test_data10['model_preds'] = predicted_classes\n",
    "test_data10['probability'] = predictions\n",
    "\n",
    "# Evaluation\n",
    "print_metrics(y_test, predicted_classes)"
   ]
  },
  {
   "cell_type": "code",
   "execution_count": 33,
   "metadata": {},
   "outputs": [
    {
     "name": "stdout",
     "output_type": "stream",
     "text": [
      "Total number of bets: 84\n",
      "Total return from betting £1.00 on each prediction where model_preds == 1: £46.00\n",
      "Return per pound invested: £0.55\n",
      "Model accuracy: 61.90%\n"
     ]
    }
   ],
   "source": [
    "profit_calculation(test_data10)"
   ]
  },
  {
   "cell_type": "code",
   "execution_count": 34,
   "metadata": {},
   "outputs": [
    {
     "data": {
      "text/html": [
       "<div>\n",
       "<style scoped>\n",
       "    .dataframe tbody tr th:only-of-type {\n",
       "        vertical-align: middle;\n",
       "    }\n",
       "\n",
       "    .dataframe tbody tr th {\n",
       "        vertical-align: top;\n",
       "    }\n",
       "\n",
       "    .dataframe thead th {\n",
       "        text-align: right;\n",
       "    }\n",
       "</style>\n",
       "<table border=\"1\" class=\"dataframe\">\n",
       "  <thead>\n",
       "    <tr style=\"text-align: right;\">\n",
       "      <th></th>\n",
       "      <th>Race Time</th>\n",
       "      <th>Course</th>\n",
       "      <th>Horse</th>\n",
       "      <th>Distance (y)</th>\n",
       "      <th>distance_bucket</th>\n",
       "      <th>Won (1=Won, 0=Lost)</th>\n",
       "      <th>SP Odds Decimal</th>\n",
       "      <th>weight</th>\n",
       "      <th>Proform Speed Rating</th>\n",
       "      <th>Won P/L Before</th>\n",
       "      <th>evening_morning_price</th>\n",
       "      <th>SP Odds Decimal1</th>\n",
       "      <th>model_preds</th>\n",
       "      <th>probability</th>\n",
       "    </tr>\n",
       "  </thead>\n",
       "  <tbody>\n",
       "    <tr>\n",
       "      <th>72</th>\n",
       "      <td>01/05/2021 15:40:00</td>\n",
       "      <td>Newmarket</td>\n",
       "      <td>Battleground</td>\n",
       "      <td>1760</td>\n",
       "      <td>1600-1800</td>\n",
       "      <td>0</td>\n",
       "      <td>0.010</td>\n",
       "      <td>0.54902</td>\n",
       "      <td>0.747126</td>\n",
       "      <td>0.141670</td>\n",
       "      <td>0.129031</td>\n",
       "      <td>6</td>\n",
       "      <td>0</td>\n",
       "      <td>0.205977</td>\n",
       "    </tr>\n",
       "    <tr>\n",
       "      <th>73</th>\n",
       "      <td>01/05/2021 15:40:00</td>\n",
       "      <td>Newmarket</td>\n",
       "      <td>Chindit</td>\n",
       "      <td>1760</td>\n",
       "      <td>1600-1800</td>\n",
       "      <td>0</td>\n",
       "      <td>0.024</td>\n",
       "      <td>0.54902</td>\n",
       "      <td>0.931034</td>\n",
       "      <td>0.172753</td>\n",
       "      <td>0.077203</td>\n",
       "      <td>13</td>\n",
       "      <td>0</td>\n",
       "      <td>0.273286</td>\n",
       "    </tr>\n",
       "    <tr>\n",
       "      <th>74</th>\n",
       "      <td>01/05/2021 15:40:00</td>\n",
       "      <td>Newmarket</td>\n",
       "      <td>Devilwala</td>\n",
       "      <td>1760</td>\n",
       "      <td>1600-1800</td>\n",
       "      <td>0</td>\n",
       "      <td>0.200</td>\n",
       "      <td>0.54902</td>\n",
       "      <td>0.758621</td>\n",
       "      <td>0.127886</td>\n",
       "      <td>0.054744</td>\n",
       "      <td>101</td>\n",
       "      <td>0</td>\n",
       "      <td>0.015143</td>\n",
       "    </tr>\n",
       "    <tr>\n",
       "      <th>75</th>\n",
       "      <td>01/05/2021 15:40:00</td>\n",
       "      <td>Newmarket</td>\n",
       "      <td>Legion Of Honour</td>\n",
       "      <td>1760</td>\n",
       "      <td>1600-1800</td>\n",
       "      <td>0</td>\n",
       "      <td>0.160</td>\n",
       "      <td>0.54902</td>\n",
       "      <td>0.873563</td>\n",
       "      <td>0.124938</td>\n",
       "      <td>0.068951</td>\n",
       "      <td>81</td>\n",
       "      <td>0</td>\n",
       "      <td>0.043274</td>\n",
       "    </tr>\n",
       "    <tr>\n",
       "      <th>76</th>\n",
       "      <td>01/05/2021 15:40:00</td>\n",
       "      <td>Newmarket</td>\n",
       "      <td>Lucky Vega</td>\n",
       "      <td>1760</td>\n",
       "      <td>1600-1800</td>\n",
       "      <td>0</td>\n",
       "      <td>0.024</td>\n",
       "      <td>0.54902</td>\n",
       "      <td>0.977011</td>\n",
       "      <td>0.149201</td>\n",
       "      <td>0.064826</td>\n",
       "      <td>13</td>\n",
       "      <td>0</td>\n",
       "      <td>0.355906</td>\n",
       "    </tr>\n",
       "  </tbody>\n",
       "</table>\n",
       "</div>"
      ],
      "text/plain": [
       "              Race Time     Course             Horse  Distance (y)  \\\n",
       "72  01/05/2021 15:40:00  Newmarket      Battleground          1760   \n",
       "73  01/05/2021 15:40:00  Newmarket           Chindit          1760   \n",
       "74  01/05/2021 15:40:00  Newmarket         Devilwala          1760   \n",
       "75  01/05/2021 15:40:00  Newmarket  Legion Of Honour          1760   \n",
       "76  01/05/2021 15:40:00  Newmarket        Lucky Vega          1760   \n",
       "\n",
       "   distance_bucket  Won (1=Won, 0=Lost)  SP Odds Decimal   weight  \\\n",
       "72       1600-1800                    0            0.010  0.54902   \n",
       "73       1600-1800                    0            0.024  0.54902   \n",
       "74       1600-1800                    0            0.200  0.54902   \n",
       "75       1600-1800                    0            0.160  0.54902   \n",
       "76       1600-1800                    0            0.024  0.54902   \n",
       "\n",
       "    Proform Speed Rating  Won P/L Before  evening_morning_price  \\\n",
       "72              0.747126        0.141670               0.129031   \n",
       "73              0.931034        0.172753               0.077203   \n",
       "74              0.758621        0.127886               0.054744   \n",
       "75              0.873563        0.124938               0.068951   \n",
       "76              0.977011        0.149201               0.064826   \n",
       "\n",
       "    SP Odds Decimal1  model_preds  probability  \n",
       "72                 6            0     0.205977  \n",
       "73                13            0     0.273286  \n",
       "74               101            0     0.015143  \n",
       "75                81            0     0.043274  \n",
       "76                13            0     0.355906  "
      ]
     },
     "execution_count": 34,
     "metadata": {},
     "output_type": "execute_result"
    }
   ],
   "source": [
    "test_data10.head(5)"
   ]
  },
  {
   "cell_type": "code",
   "execution_count": 35,
   "metadata": {},
   "outputs": [
    {
     "name": "stdout",
     "output_type": "stream",
     "text": [
      "Epoch 1/10\n",
      "\u001b[1m2298/2298\u001b[0m \u001b[32m━━━━━━━━━━━━━━━━━━━━\u001b[0m\u001b[37m\u001b[0m \u001b[1m1s\u001b[0m 418us/step - accuracy: 0.7603 - loss: 0.4909 - val_accuracy: 0.7647 - val_loss: 0.4357\n",
      "Epoch 2/10\n",
      "\u001b[1m2298/2298\u001b[0m \u001b[32m━━━━━━━━━━━━━━━━━━━━\u001b[0m\u001b[37m\u001b[0m \u001b[1m1s\u001b[0m 418us/step - accuracy: 0.7660 - loss: 0.4791 - val_accuracy: 0.7060 - val_loss: 0.5228\n",
      "Epoch 3/10\n",
      "\u001b[1m2298/2298\u001b[0m \u001b[32m━━━━━━━━━━━━━━━━━━━━\u001b[0m\u001b[37m\u001b[0m \u001b[1m1s\u001b[0m 394us/step - accuracy: 0.7668 - loss: 0.4761 - val_accuracy: 0.7158 - val_loss: 0.5109\n",
      "Epoch 4/10\n",
      "\u001b[1m2298/2298\u001b[0m \u001b[32m━━━━━━━━━━━━━━━━━━━━\u001b[0m\u001b[37m\u001b[0m \u001b[1m1s\u001b[0m 391us/step - accuracy: 0.7688 - loss: 0.4757 - val_accuracy: 0.6809 - val_loss: 0.5721\n",
      "Epoch 5/10\n",
      "\u001b[1m2298/2298\u001b[0m \u001b[32m━━━━━━━━━━━━━━━━━━━━\u001b[0m\u001b[37m\u001b[0m \u001b[1m1s\u001b[0m 395us/step - accuracy: 0.7686 - loss: 0.4736 - val_accuracy: 0.7423 - val_loss: 0.4830\n",
      "Epoch 6/10\n",
      "\u001b[1m2298/2298\u001b[0m \u001b[32m━━━━━━━━━━━━━━━━━━━━\u001b[0m\u001b[37m\u001b[0m \u001b[1m1s\u001b[0m 397us/step - accuracy: 0.7713 - loss: 0.4738 - val_accuracy: 0.7626 - val_loss: 0.4473\n",
      "Epoch 7/10\n",
      "\u001b[1m2298/2298\u001b[0m \u001b[32m━━━━━━━━━━━━━━━━━━━━\u001b[0m\u001b[37m\u001b[0m \u001b[1m1s\u001b[0m 391us/step - accuracy: 0.7678 - loss: 0.4747 - val_accuracy: 0.7669 - val_loss: 0.4531\n",
      "Epoch 8/10\n",
      "\u001b[1m2298/2298\u001b[0m \u001b[32m━━━━━━━━━━━━━━━━━━━━\u001b[0m\u001b[37m\u001b[0m \u001b[1m1s\u001b[0m 387us/step - accuracy: 0.7694 - loss: 0.4703 - val_accuracy: 0.7408 - val_loss: 0.4826\n",
      "Epoch 9/10\n",
      "\u001b[1m2298/2298\u001b[0m \u001b[32m━━━━━━━━━━━━━━━━━━━━\u001b[0m\u001b[37m\u001b[0m \u001b[1m1s\u001b[0m 400us/step - accuracy: 0.7687 - loss: 0.4720 - val_accuracy: 0.7260 - val_loss: 0.4965\n",
      "Epoch 10/10\n",
      "\u001b[1m2298/2298\u001b[0m \u001b[32m━━━━━━━━━━━━━━━━━━━━\u001b[0m\u001b[37m\u001b[0m \u001b[1m1s\u001b[0m 389us/step - accuracy: 0.7676 - loss: 0.4740 - val_accuracy: 0.7270 - val_loss: 0.4987\n",
      "\u001b[1m318/318\u001b[0m \u001b[32m━━━━━━━━━━━━━━━━━━━━\u001b[0m\u001b[37m\u001b[0m \u001b[1m0s\u001b[0m 235us/step\n",
      "\n",
      "Confusion Matrix: \n",
      "[[8984   32]\n",
      " [1099   52]]\n",
      "Accuracy: 0.8887577456476837\n",
      "Precision: 0.6190476190476191\n",
      "Recall: 0.045178105994787145\n",
      "F1 score: 0.08421052631578949\n",
      "ROC AUC score: 0.5208144301047583\n"
     ]
    }
   ],
   "source": [
    "test_data11 = test_data.copy()\n",
    "\n",
    "# Train the model\n",
    "history = model.fit(X_resampled, y_resampled, epochs=10, batch_size=32, validation_data=(X_test, y_test))\n",
    "\n",
    "# Get model predictions as probabilities\n",
    "predictions1 = model.predict(X_test)\n",
    "\n",
    "# Convert probabilities to binary outcomes (0 or 1)\n",
    "predicted_classes1 = (predictions > 0.5).astype(\"int32\").flatten()\n",
    "\n",
    "test_data11['model_preds'] = predicted_classes1\n",
    "test_data11['probability'] = predictions1\n",
    "\n",
    "# Evaluation\n",
    "print_metrics(y_test, predicted_classes1)"
   ]
  },
  {
   "cell_type": "code",
   "execution_count": 36,
   "metadata": {},
   "outputs": [
    {
     "name": "stdout",
     "output_type": "stream",
     "text": [
      "Total number of bets: 84\n",
      "Total return from betting £1.00 on each prediction where model_preds == 1: £46.00\n",
      "Return per pound invested: £0.55\n",
      "Model accuracy: 61.90%\n"
     ]
    }
   ],
   "source": [
    "profit_calculation(test_data11)"
   ]
  },
  {
   "cell_type": "markdown",
   "metadata": {},
   "source": [
    "# Play around ith the logistic regression model as that is showing the best profit\n",
    "- finetune it by playing with penalties and subsets of the data\n",
    "    - distance buckets, classes\n",
    "- also try running balanced datasets throught the model."
   ]
  },
  {
   "cell_type": "code",
   "execution_count": 37,
   "metadata": {},
   "outputs": [
    {
     "name": "stdout",
     "output_type": "stream",
     "text": [
      "\n",
      "Confusion Matrix: \n",
      "[[7353 1663]\n",
      " [ 393  758]]\n",
      "Accuracy: 0.7977771220615717\n",
      "Precision: 0.3130937629078893\n",
      "Recall: 0.6585577758470895\n",
      "F1 score: 0.4244120940649496\n",
      "ROC AUC score: 0.7370539544719032\n",
      "Total number of bets: 2421\n",
      "Total return from betting £1.00 on each prediction where model_preds == 1: £1442.00\n",
      "Return per pound invested: £0.60\n",
      "Model accuracy: 31.31%\n"
     ]
    }
   ],
   "source": [
    "test_data9 = test_data.copy()\n",
    "\n",
    "# Define cost matrix\n",
    "C_FN = 5  # Cost of false negative\n",
    "C_FP = 1  # Cost of false positive\n",
    "\n",
    "# Assuming y_train has values 0 and 1\n",
    "weights = np.ones(y_train.shape[0])\n",
    "weights[y_train == 1] = C_FN\n",
    "weights[y_train == 0] = C_FP\n",
    "\n",
    "# Train logistic regression model with custom weights\n",
    "model = LogisticRegression()\n",
    "model.fit(X_train, y_train, sample_weight=weights)\n",
    "\n",
    "# Predictions\n",
    "y_predz = model.predict(X_test)\n",
    "\n",
    "test_data9['model_preds'] = y_predz\n",
    "\n",
    "# Evaluation\n",
    "print_metrics(y_test, y_predz)\n",
    "\n",
    "profit_calculation(test_data9)"
   ]
  },
  {
   "cell_type": "markdown",
   "metadata": {},
   "source": [
    "# firstly lets try the smote dataset"
   ]
  },
  {
   "cell_type": "code",
   "execution_count": 38,
   "metadata": {},
   "outputs": [
    {
     "name": "stdout",
     "output_type": "stream",
     "text": [
      "\n",
      "Confusion Matrix: \n",
      "[[3222 5794]\n",
      " [  22 1129]]\n",
      "Accuracy: 0.4279531818628897\n",
      "Precision: 0.1630795897732197\n",
      "Recall: 0.9808861859252823\n",
      "F1 score: 0.27966311617537776\n",
      "ROC AUC score: 0.6691254354648594\n",
      "Total number of bets: 6923\n",
      "Total return from betting £1.00 on each prediction where model_preds == 1: £214.00\n",
      "Return per pound invested: £0.03\n",
      "Model accuracy: 16.31%\n"
     ]
    }
   ],
   "source": [
    "test_data_smote = test_data.copy()\n",
    "\n",
    "smote= SMOTE(random_state=42)\n",
    "\n",
    "X_train_smote, y_train_smote = smote.fit_resample(X_train, y_train)\n",
    "\n",
    "# Define cost matrix\n",
    "C_FN = 5  # Cost of false negative\n",
    "C_FP = 1  # Cost of false positive\n",
    "\n",
    "# Assuming y_train has values 0 and 1\n",
    "weights = np.ones(y_train_smote.shape[0])\n",
    "weights[y_train_smote == 1] = C_FN\n",
    "weights[y_train_smote == 0] = C_FP\n",
    "\n",
    "# Train logistic regression model with custom weights\n",
    "model = LogisticRegression()\n",
    "model.fit(X_train_smote, y_train_smote, sample_weight=weights)\n",
    "\n",
    "# Predictions\n",
    "y_pred_smote = model.predict(X_test)\n",
    "\n",
    "test_data_smote['model_preds'] = y_pred_smote\n",
    "\n",
    "# Evaluation\n",
    "print_metrics(y_test, y_pred_smote)\n",
    "\n",
    "profit_calculation(test_data_smote)"
   ]
  },
  {
   "cell_type": "markdown",
   "metadata": {},
   "source": [
    "# try random oversampling"
   ]
  },
  {
   "cell_type": "code",
   "execution_count": 39,
   "metadata": {},
   "outputs": [
    {
     "name": "stdout",
     "output_type": "stream",
     "text": [
      "\n",
      "Confusion Matrix: \n",
      "[[3014 6002]\n",
      " [  19 1132]]\n",
      "Accuracy: 0.4077899085275893\n",
      "Precision: 0.1586767591813849\n",
      "Recall: 0.9834926151172894\n",
      "F1 score: 0.2732649366324683\n",
      "ROC AUC score: 0.6588936012587334\n",
      "Total number of bets: 7134\n",
      "Total return from betting £1.00 on each prediction where model_preds == 1: £105.00\n",
      "Return per pound invested: £0.01\n",
      "Model accuracy: 15.87%\n"
     ]
    }
   ],
   "source": [
    "# Apply Random Oversampling\n",
    "ros = RandomOverSampler(random_state=42)\n",
    "X_resampled, y_resampled = ros.fit_resample(X_train, y_train)\n",
    "\n",
    "test_data_ros = test_data.copy()\n",
    "\n",
    "# Define cost matrix\n",
    "C_FN = 5  # Cost of false negative\n",
    "C_FP = 1  # Cost of false positive\n",
    "\n",
    "# Assuming y_train has values 0 and 1\n",
    "weights = np.ones(y_resampled.shape[0])\n",
    "weights[y_resampled == 1] = C_FN\n",
    "weights[y_resampled == 0] = C_FP\n",
    "\n",
    "# Train logistic regression model with custom weights\n",
    "model = LogisticRegression()\n",
    "model.fit(X_resampled, y_resampled, sample_weight=weights)\n",
    "\n",
    "# Predictions\n",
    "y_pred_ros = model.predict(X_test)\n",
    "\n",
    "test_data_ros['model_preds'] = y_pred_ros\n",
    "\n",
    "# Evaluation\n",
    "print_metrics(y_test, y_pred_ros)\n",
    "\n",
    "profit_calculation(test_data_ros)"
   ]
  },
  {
   "cell_type": "markdown",
   "metadata": {},
   "source": [
    "# play around with some different penalties"
   ]
  },
  {
   "cell_type": "code",
   "execution_count": 40,
   "metadata": {},
   "outputs": [],
   "source": [
    "%%script false --no-raise-error\n",
    "\n",
    "# Copy test data\n",
    "test_data91 = test_data.copy()\n",
    "\n",
    "# Define grid of penalty values to test\n",
    "C_FN_values = range(1,30)  # Range of false negative penalties\n",
    "C_FP_values = range(1,30)  # Range of false positive penalties\n",
    "\n",
    "# Initialize variables to store the best results\n",
    "best_C_FN = None\n",
    "best_C_FP = None\n",
    "best_profit = -np.inf  # Start with negative infinity to ensure any positive profit is better\n",
    "\n",
    "# Iterate over each combination of C_FN and C_FP\n",
    "for C_FN in C_FN_values:\n",
    "    for C_FP in C_FP_values:\n",
    "        # Assign weights based on the current C_FN and C_FP\n",
    "        weights = np.ones(y_train.shape[0])\n",
    "        weights[y_train == 1] = C_FN\n",
    "        weights[y_train == 0] = C_FP\n",
    "\n",
    "        # Train the logistic regression model\n",
    "        model = LogisticRegression()\n",
    "        model.fit(X_train, y_train, sample_weight=weights)\n",
    "\n",
    "        # Make predictions on the test data\n",
    "        y_predz = model.predict(X_test)\n",
    "\n",
    "        # Add predictions to the test data\n",
    "        test_data91['model_preds'] = y_predz\n",
    "\n",
    "        # Calculate the profit or loss (assuming profit_calculation function is defined)\n",
    "        profit_calculation(test_data91)\n",
    "        \n",
    "\n",
    "        # Optional: Print progress (for larger grids)\n",
    "        print(f\"C_FN: {C_FN}, C_FP: {C_FP}\\n\")\n"
   ]
  },
  {
   "cell_type": "markdown",
   "metadata": {},
   "source": [
    "# this is the model moving forward"
   ]
  },
  {
   "cell_type": "code",
   "execution_count": 41,
   "metadata": {},
   "outputs": [
    {
     "name": "stdout",
     "output_type": "stream",
     "text": [
      "\n",
      "Confusion Matrix: \n",
      "[[8714  302]\n",
      " [ 916  235]]\n",
      "Accuracy: 0.880200649159044\n",
      "Precision: 0.4376163873370577\n",
      "Recall: 0.20417028670721113\n",
      "F1 score: 0.278436018957346\n",
      "ROC AUC score: 0.5853371398043598\n"
     ]
    }
   ],
   "source": [
    "test_data1 = test_data.copy()\n",
    "\n",
    "# Instantiate and train the Random Forest classifier\n",
    "params = {\n",
    "    'n_estimators' : 100,\n",
    "    'random_state' : 42\n",
    "}\n",
    "with mlflow.start_run():\n",
    "    # Log the hyperparameters\n",
    "    mlflow.log_params(params)\n",
    "\n",
    "    rf_classifier = RandomForestClassifier(**params)\n",
    "    rf_classifier.fit(X_train, y_train)\n",
    "\n",
    "    # Log the trained model\n",
    "    mlflow.sklearn.log_model(rf_classifier, \"random_forest_model\")\n",
    "\n",
    "    # Make predictions on the test set\n",
    "    y_pred = rf_classifier.predict(X_test)\n",
    "\n",
    "    test_data1['model_preds'] = y_pred\n",
    "\n",
    "    # Evaluate the model\n",
    "    # use the eval method\n",
    "    print_metrics(y_test, y_pred)\n",
    "    mlflow.end_run()\n",
    "\n",
    "with open('../models/base_model.pkl', 'wb') as f:\n",
    "    pickle.dump(rf_classifier, f)"
   ]
  },
  {
   "cell_type": "code",
   "execution_count": null,
   "metadata": {},
   "outputs": [],
   "source": []
  },
  {
   "cell_type": "code",
   "execution_count": 42,
   "metadata": {},
   "outputs": [
    {
     "name": "stdout",
     "output_type": "stream",
     "text": [
      "\n",
      "Confusion Matrix: \n",
      "[[7353 1663]\n",
      " [ 393  758]]\n",
      "Accuracy: 0.7977771220615717\n",
      "Precision: 0.3130937629078893\n",
      "Recall: 0.6585577758470895\n",
      "F1 score: 0.4244120940649496\n",
      "ROC AUC score: 0.7370539544719032\n",
      "\n",
      "Total number of bets: 2421\n",
      "Total return from betting £1.00 on each prediction where model_preds == 1: £1442.00\n",
      "Return per pound invested: £0.60\n",
      "Model accuracy: 31.31%\n"
     ]
    }
   ],
   "source": [
    "test_data_best = test_data.copy()\n",
    "\n",
    "# Define cost matrix\n",
    "# we are assigning a greater cost to false negatives.\n",
    "C_FN = 6  # Cost of false negative\n",
    "C_FP = 1  # Cost of false positive\n",
    "\n",
    "# Assuming y_train has values 0 and 1\n",
    "\n",
    "# creating a numpy array of one's where the length of the array == len(y_train)\n",
    "# initially every sampple in the dataset is given a value of one\n",
    "weights = np.ones(y_train.shape[0])\n",
    "\n",
    "# here we are modifying the weights of all the samples in the training set that belong to class 1\n",
    "# therefore the weights for samples where the label is 1 are updated to C_FN\n",
    "weights[y_train == 1] = C_FN\n",
    "\n",
    "# here we are modifying the weights of all the samples in the training set that belong to class 0\n",
    "# therefore the weights for samples where the label is 1 are updated to C_FP\n",
    "weights[y_train == 0] = C_FP\n",
    "\n",
    "# Train logistic regression model with custom weights\n",
    "model = LogisticRegression()\n",
    "model.fit(X_train, y_train, sample_weight=weights)\n",
    "\n",
    "# Save the model to a file using pickle\n",
    "with open('../models/logistic_regression_model.pkl', 'wb') as f:\n",
    "    pickle.dump(model, f)\n",
    "\n",
    "test_data_best['model_preds'] = y_predz\n",
    "\n",
    "# Evaluation\n",
    "print_metrics(y_test, y_predz)\n",
    "print()\n",
    "profit_calculation(test_data_best, stake = 1)\n"
   ]
  }
 ],
 "metadata": {
  "kernelspec": {
   "display_name": "horse_trading",
   "language": "python",
   "name": "python3"
  },
  "language_info": {
   "codemirror_mode": {
    "name": "ipython",
    "version": 3
   },
   "file_extension": ".py",
   "mimetype": "text/x-python",
   "name": "python",
   "nbconvert_exporter": "python",
   "pygments_lexer": "ipython3",
   "version": "3.11.6"
  }
 },
 "nbformat": 4,
 "nbformat_minor": 2
}
