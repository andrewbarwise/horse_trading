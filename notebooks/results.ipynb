{
 "cells": [
  {
   "cell_type": "code",
   "execution_count": 1,
   "metadata": {},
   "outputs": [],
   "source": [
    "import sys\n",
    "sys.path.append('../src')\n",
    "\n",
    "import os\n",
    "import requests\n",
    "import json\n",
    "import pandas as pd\n",
    "import betfairlightweight\n",
    "from betfairlightweight import filters\n",
    "from datetime import datetime, timedelta\n",
    "\n",
    "from betfair import Betfair\n",
    "\n",
    "pd.set_option('display.max_columns', None)"
   ]
  },
  {
   "cell_type": "code",
   "execution_count": null,
   "metadata": {},
   "outputs": [],
   "source": []
  },
  {
   "cell_type": "code",
   "execution_count": 2,
   "metadata": {},
   "outputs": [],
   "source": [
    "app_key = 'ABGJLOlKaLtTsMIp'\n",
    "\n",
    "username1 = input(\"Email:\")\n",
    "password1 = input(\"Password:\")"
   ]
  },
  {
   "cell_type": "code",
   "execution_count": 6,
   "metadata": {},
   "outputs": [],
   "source": [
    "trading = betfairlightweight.APIClient(\n",
    "        username1, password1, app_key\n",
    "    )\n",
    "trading.login_interactive()\n",
    "\n",
    "trading.session_token\n",
    "\n",
    "trading.keep_alive()\n",
    "\n",
    "trading.race_card.login()"
   ]
  },
  {
   "cell_type": "code",
   "execution_count": 4,
   "metadata": {},
   "outputs": [],
   "source": [
    "# Set the start and end time to cover the entire day in UTC\n",
    "today = datetime.utcnow()\n",
    "start_time = today.replace(hour=0, minute=0, second=0, microsecond=0)\n",
    "end_time = today.replace(hour=23, minute=59, second=59, microsecond=999999)"
   ]
  },
  {
   "cell_type": "code",
   "execution_count": 7,
   "metadata": {},
   "outputs": [
    {
     "name": "stdout",
     "output_type": "stream",
     "text": [
      "           raceId                 startDate      courseName countryCode  \\\n",
      "0  1.30.1240813.1  2024-08-13T13:15:00.000Z  Lingfield Park          GB   \n",
      "1  1.30.1240813.1  2024-08-13T13:15:00.000Z  Lingfield Park          GB   \n",
      "2  1.30.1240813.1  2024-08-13T13:15:00.000Z  Lingfield Park          GB   \n",
      "3  1.30.1240813.1  2024-08-13T13:15:00.000Z  Lingfield Park          GB   \n",
      "4  1.30.1240813.1  2024-08-13T13:15:00.000Z  Lingfield Park          GB   \n",
      "5  1.30.1240813.1  2024-08-13T13:15:00.000Z  Lingfield Park          GB   \n",
      "6  1.30.1240813.1  2024-08-13T13:15:00.000Z  Lingfield Park          GB   \n",
      "7  1.30.1240813.1  2024-08-13T13:15:00.000Z  Lingfield Park          GB   \n",
      "8  1.30.1240813.1  2024-08-13T13:15:00.000Z  Lingfield Park          GB   \n",
      "9  1.30.1240813.1  2024-08-13T13:15:00.000Z  Lingfield Park          GB   \n",
      "\n",
      "                                           raceTitle            raceClass  \\\n",
      "0  Download The Raceday Ready App Apprentice Hand...  Apprentice Handicap   \n",
      "1  Download The Raceday Ready App Apprentice Hand...  Apprentice Handicap   \n",
      "2  Download The Raceday Ready App Apprentice Hand...  Apprentice Handicap   \n",
      "3  Download The Raceday Ready App Apprentice Hand...  Apprentice Handicap   \n",
      "4  Download The Raceday Ready App Apprentice Hand...  Apprentice Handicap   \n",
      "5  Download The Raceday Ready App Apprentice Hand...  Apprentice Handicap   \n",
      "6  Download The Raceday Ready App Apprentice Hand...  Apprentice Handicap   \n",
      "7  Download The Raceday Ready App Apprentice Hand...  Apprentice Handicap   \n",
      "8  Download The Raceday Ready App Apprentice Hand...  Apprentice Handicap   \n",
      "9  Download The Raceday Ready App Apprentice Hand...  Apprentice Handicap   \n",
      "\n",
      "   raceDistance courseType  surfaceType     marketId marketType     horseId  \\\n",
      "0          1541       Flat  All Weather  1.231693932        WIN  1.00526793   \n",
      "1          1541       Flat  All Weather  1.231693932        WIN  1.00584199   \n",
      "2          1541       Flat  All Weather  1.231693932        WIN  1.00574897   \n",
      "3          1541       Flat  All Weather  1.231693932        WIN  1.00605273   \n",
      "4          1541       Flat  All Weather  1.231693932        WIN  1.00595630   \n",
      "5          1541       Flat  All Weather  1.231693932        WIN  1.00594338   \n",
      "6          1541       Flat  All Weather  1.231693932        WIN  1.00523048   \n",
      "7          1541       Flat  All Weather  1.231693932        WIN  1.00594199   \n",
      "8          1541       Flat  All Weather  1.231693932        WIN  1.00597431   \n",
      "9          1541       Flat  All Weather  1.231693932        WIN  1.00564725   \n",
      "\n",
      "            horseName saddleCloth  isNonRunner position selectionId        bsp  \n",
      "0       Split Elevens           1        False        1    28732343    4.10005  \n",
      "1        Capallcliste           8        False        2    53985455   11.52149  \n",
      "2            Outreach           2        False        3     9163357   11.00000  \n",
      "3         Poles Apart           9        False        3    16409422   13.98321  \n",
      "4         Electrified           5        False        5    11450381    7.78057  \n",
      "5  Forgotten Treasure           7        False        6    35638629   14.50000  \n",
      "6      Doonbeg Farmer           6        False        7    28575481   30.26636  \n",
      "7           Rinnovati           4        False        8    59121485    4.11093  \n",
      "8          Snow Eagle          10        False        9    61302355  139.84815  \n",
      "9      Brazen Diamond           3        False       10    43535396   50.00000  \n"
     ]
    }
   ],
   "source": [
    "market_ids = [\"1.231693932\"]\n",
    "\n",
    "try:\n",
    "    data = trading.race_card.get_race_result(market_ids=market_ids)\n",
    "except Exception as e:\n",
    "    print(f\"An error occurred: {e}\")\n",
    "    data = []\n",
    "\n",
    "# Process and display the data\n",
    "flat_data = []\n",
    "\n",
    "for race in data:\n",
    "    for runner in race.get('runners', []):\n",
    "        for selection in runner.get('selections', []):\n",
    "            if selection['marketType'] == 'WIN' and 'bsp' in selection:\n",
    "                flat_data.append({\n",
    "                    'raceId': race.get('raceId'),\n",
    "                    'startDate': race.get('startDate'),\n",
    "                    'courseName': race.get('course', {}).get('name'),\n",
    "                    'countryCode': race.get('course', {}).get('countryCode'),\n",
    "                    'raceTitle': race.get('raceTitle'),\n",
    "                    'raceClass': race.get('raceClassification', {}).get('classification'),\n",
    "                    'raceDistance': race.get('distance'),\n",
    "                    'courseType': race.get('course', {}).get('courseType'),\n",
    "                    'surfaceType': race.get('course', {}).get('surfaceType'),\n",
    "                    'marketId': selection.get('marketId'),\n",
    "                    'marketType': selection.get('marketType'),\n",
    "                    'horseId': runner.get('horseId'),\n",
    "                    'horseName': runner.get('horseName', 'Unknown'),\n",
    "                    'saddleCloth': runner.get('saddleCloth'),\n",
    "                    'isNonRunner': runner.get('isNonRunner'),\n",
    "                    'position': runner.get('position'),\n",
    "                    'selectionId': selection.get('selectionId'),\n",
    "                    'bsp': selection.get('bsp')\n",
    "                })\n",
    "\n",
    "# Create a DataFrame\n",
    "import pandas as pd\n",
    "df = pd.DataFrame(flat_data)\n",
    "\n",
    "# Display the DataFrame\n",
    "print(df)"
   ]
  },
  {
   "cell_type": "code",
   "execution_count": null,
   "metadata": {},
   "outputs": [],
   "source": [
    "# need to save down the results\n"
   ]
  }
 ],
 "metadata": {
  "kernelspec": {
   "display_name": "Python 3",
   "language": "python",
   "name": "python3"
  },
  "language_info": {
   "codemirror_mode": {
    "name": "ipython",
    "version": 3
   },
   "file_extension": ".py",
   "mimetype": "text/x-python",
   "name": "python",
   "nbconvert_exporter": "python",
   "pygments_lexer": "ipython3",
   "version": "3.11.6"
  }
 },
 "nbformat": 4,
 "nbformat_minor": 2
}
