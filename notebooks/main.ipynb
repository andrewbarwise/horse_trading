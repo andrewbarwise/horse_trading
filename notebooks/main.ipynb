{
 "cells": [
  {
   "cell_type": "code",
   "execution_count": 1,
   "metadata": {},
   "outputs": [
    {
     "name": "stderr",
     "output_type": "stream",
     "text": [
      "/Users/andrewbarwise/miniforge3/envs/horse_trading/lib/python3.11/site-packages/pydantic/_internal/_fields.py:151: UserWarning: Field \"model_server_url\" has conflict with protected namespace \"model_\".\n",
      "\n",
      "You may be able to resolve this warning by setting `model_config['protected_namespaces'] = ()`.\n",
      "  warnings.warn(\n",
      "/Users/andrewbarwise/miniforge3/envs/horse_trading/lib/python3.11/site-packages/pydantic/_internal/_config.py:322: UserWarning: Valid config keys have changed in V2:\n",
      "* 'schema_extra' has been renamed to 'json_schema_extra'\n",
      "  warnings.warn(message, UserWarning)\n"
     ]
    }
   ],
   "source": [
    "import sys\n",
    "sys.path.append('../src')\n",
    "\n",
    "import mlflow\n",
    "from sklearn.ensemble import RandomForestClassifier, GradientBoostingClassifier\n",
    "from sklearn.linear_model import LogisticRegression # type: ignore\n",
    "from sklearn.model_selection import GridSearchCV # type: ignore\n",
    "\n",
    "import tensorflow as tf\n",
    "from tensorflow.keras.models import Sequential\n",
    "from tensorflow.keras.layers import Dense\n",
    "\n",
    "import pandas as pd\n",
    "import numpy as np\n",
    "import xgboost as xgb\n",
    "from xgboost import XGBClassifier\n",
    "from sklearn.metrics import classification_report\n",
    "from imblearn.over_sampling import RandomOverSampler, SMOTE\n",
    "import pickle\n",
    "\n",
    "from functions import *\n",
    "\n",
    "from data_cleaning import DataCleaning\n",
    "\n",
    "import os\n",
    "\n",
    "pd.set_option('display.max_columns', None)"
   ]
  },
  {
   "cell_type": "code",
   "execution_count": 13,
   "metadata": {},
   "outputs": [],
   "source": [
    "data = pd.read_csv('../data/daily/2024_09_23.csv')\n",
    "\n",
    "data1 = pd.read_csv('../data/daily/2024_09_23_2.csv')\n",
    "\n",
    "data2 = pd.read_csv('../data/daily/2024_09_23_3.csv')"
   ]
  },
  {
   "cell_type": "code",
   "execution_count": 6,
   "metadata": {},
   "outputs": [],
   "source": [
    "def mass_transformation(data):\n",
    "    bins = [800, 1000, 1200, 1400, 1600, 1800, 2000, 2200, 2400, 2600,\n",
    "        2800, 3000, 3200, 3400, 3600, 3800, 4000]\n",
    "\n",
    "    data['distance_bucket'] = pd.cut(data['Distance (y)'], bins = bins,\n",
    "                               labels=['800-1000', '1000-1200', '1200-1400', '1400-1600', '1600-1800', '1800-2000',\n",
    "                                       '2000-2200', '2200-2400', '2400-2600', '2600-2800', '2800-3000',\n",
    "                                       '3000-3200', '3200-3400', '3400-3600', '3600-3800', '3800-4000'])\n",
    "    \n",
    "    data = data.rename(columns ={'Weight (pounds)':'weight'})\n",
    "\n",
    "    data['evening_morning_price'] = (data['Morning Price'] / data['Evening Price'])\n",
    "\n",
    "    data['breakfast_morning_price'] = (data['Morning Price'] / data['Breakfast Price'])\n",
    "\n",
    "    data[['Won P/L Before', ]] = data[['Won P/L Before']].map(pd.to_numeric)\n",
    "\n",
    "    data['SP Odds Decimal1'] = data['SP Odds Decimal']\n",
    "\n",
    "    return data\n",
    "\n",
    "def normalization(data):\n",
    "    \n",
    "    normalized_df = DataCleaning.normalize_columns(data, ['SP Odds Decimal', 'weight', \n",
    "           'Proform Speed Rating', 'Won P/L Before', 'evening_morning_price'])\n",
    "    \n",
    "    df1 = normalized_df[['SP Odds Decimal', 'weight', 'Proform Speed Rating', 'Won P/L Before', 'evening_morning_price']]\n",
    "\n",
    "    df1 = df1.fillna(0)\n",
    "\n",
    "    return df1"
   ]
  },
  {
   "cell_type": "code",
   "execution_count": 8,
   "metadata": {},
   "outputs": [],
   "source": [
    "df1 = mass_transformation(data)\n",
    "df2 = normalization(df1)"
   ]
  },
  {
   "cell_type": "code",
   "execution_count": 12,
   "metadata": {},
   "outputs": [
    {
     "name": "stdout",
     "output_type": "stream",
     "text": [
      "Total number of bets: 351\n",
      "Total return from betting £1.00 on each prediction where model_preds == 1: £169.72\n",
      "Return per pound invested: £0.48\n",
      "Model accuracy: 27.07%\n"
     ]
    }
   ],
   "source": [
    "with open('../models/logistic_regression_model.pkl', 'rb') as f:\n",
    "    loaded_model = pickle.load(f)\n",
    "\n",
    "# Use the loaded model to make predictions on new data\n",
    "y_new_preds = loaded_model.predict(df2)\n",
    "\n",
    "df1['model_preds'] = y_new_preds\n",
    "\n",
    "profit_calculation(df1, stake = 1)"
   ]
  },
  {
   "cell_type": "markdown",
   "metadata": {},
   "source": [
    "## next set"
   ]
  },
  {
   "cell_type": "code",
   "execution_count": 14,
   "metadata": {},
   "outputs": [],
   "source": [
    "df2 = mass_transformation(data1)\n",
    "df3 = normalization(df2)"
   ]
  },
  {
   "cell_type": "code",
   "execution_count": 15,
   "metadata": {},
   "outputs": [
    {
     "name": "stdout",
     "output_type": "stream",
     "text": [
      "Total number of bets: 171\n",
      "Total return from betting £1.00 on each prediction where model_preds == 1: £120.66\n",
      "Return per pound invested: £0.71\n",
      "Model accuracy: 38.60%\n"
     ]
    }
   ],
   "source": [
    "# Use the loaded model to make predictions on new data\n",
    "y_new_preds = loaded_model.predict(df3)\n",
    "\n",
    "df2['model_preds'] = y_new_preds\n",
    "\n",
    "profit_calculation(df2, stake = 1)"
   ]
  },
  {
   "cell_type": "markdown",
   "metadata": {},
   "source": [
    "## next set"
   ]
  },
  {
   "cell_type": "code",
   "execution_count": 17,
   "metadata": {},
   "outputs": [],
   "source": [
    "df22 = mass_transformation(data2)\n",
    "df33 = normalization(df22)"
   ]
  },
  {
   "cell_type": "code",
   "execution_count": 23,
   "metadata": {},
   "outputs": [
    {
     "name": "stdout",
     "output_type": "stream",
     "text": [
      "Total number of bets: 1094\n",
      "Total return from betting £2.00 on each prediction where model_preds == 1: £1919.48\n",
      "Return per pound invested: £0.88\n",
      "Model accuracy: 32.91%\n"
     ]
    }
   ],
   "source": [
    "\n",
    "\n",
    "# Use the loaded model to make predictions on new data\n",
    "y_new_preds = loaded_model.predict(df33)\n",
    "\n",
    "df22['model_preds'] = y_new_preds\n",
    "\n",
    "profit_calculation(df22, stake = 2)"
   ]
  }
 ],
 "metadata": {
  "kernelspec": {
   "display_name": "Python 3",
   "language": "python",
   "name": "python3"
  },
  "language_info": {
   "codemirror_mode": {
    "name": "ipython",
    "version": 3
   },
   "file_extension": ".py",
   "mimetype": "text/x-python",
   "name": "python",
   "nbconvert_exporter": "python",
   "pygments_lexer": "ipython3",
   "version": "3.11.6"
  }
 },
 "nbformat": 4,
 "nbformat_minor": 2
}
