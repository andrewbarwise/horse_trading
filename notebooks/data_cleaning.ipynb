{
 "cells": [
  {
   "cell_type": "code",
   "execution_count": 1,
   "metadata": {},
   "outputs": [],
   "source": [
    "import pandas as pd"
   ]
  },
  {
   "cell_type": "code",
   "execution_count": 2,
   "metadata": {},
   "outputs": [],
   "source": [
    "from pathlib import Path\n",
    "import sys\n",
    "\n",
    "# Get the parent directory of the notebook file\n",
    "current_dir = Path.cwd()\n",
    "parent_dir = current_dir.parent\n",
    "\n",
    "# Add the parent directory to the beginning of the system path\n",
    "sys.path.insert(0, str(parent_dir))\n",
    "\n",
    "# Now you can perform relative imports\n",
    "from src.db_connection import DatabaseConnector\n"
   ]
  },
  {
   "cell_type": "code",
   "execution_count": 3,
   "metadata": {},
   "outputs": [
    {
     "data": {
      "text/html": [
       "<div>\n",
       "<style scoped>\n",
       "    .dataframe tbody tr th:only-of-type {\n",
       "        vertical-align: middle;\n",
       "    }\n",
       "\n",
       "    .dataframe tbody tr th {\n",
       "        vertical-align: top;\n",
       "    }\n",
       "\n",
       "    .dataframe thead th {\n",
       "        text-align: right;\n",
       "    }\n",
       "</style>\n",
       "<table border=\"1\" class=\"dataframe\">\n",
       "  <thead>\n",
       "    <tr style=\"text-align: right;\">\n",
       "      <th></th>\n",
       "      <th>Race Time</th>\n",
       "      <th>Course</th>\n",
       "      <th>Course Direction</th>\n",
       "      <th>Course Characteristics</th>\n",
       "      <th>Prize</th>\n",
       "      <th>Distance (y)</th>\n",
       "      <th>Race Type</th>\n",
       "      <th>Runners</th>\n",
       "      <th>New Class No.</th>\n",
       "      <th>Min Age</th>\n",
       "      <th>...</th>\n",
       "      <th>New Class LTO</th>\n",
       "      <th>Distance In Yards LTO</th>\n",
       "      <th>Value LTO</th>\n",
       "      <th>Pounds LTO</th>\n",
       "      <th>Official Rating LTO</th>\n",
       "      <th>Position LTO</th>\n",
       "      <th>Distance To Winner LTO</th>\n",
       "      <th>SP Odds LTO (Numerical)</th>\n",
       "      <th>SP Odds LTO (Decimcal)</th>\n",
       "      <th>Speed Rating LTO</th>\n",
       "    </tr>\n",
       "  </thead>\n",
       "  <tbody>\n",
       "    <tr>\n",
       "      <th>0</th>\n",
       "      <td>01/10/2020 12:20:00</td>\n",
       "      <td>Salisbury</td>\n",
       "      <td>RH</td>\n",
       "      <td>Stiff / Galloping</td>\n",
       "      <td>5111</td>\n",
       "      <td>1760</td>\n",
       "      <td>Turf</td>\n",
       "      <td>12</td>\n",
       "      <td>4</td>\n",
       "      <td>2</td>\n",
       "      <td>...</td>\n",
       "      <td>NaN</td>\n",
       "      <td>0</td>\n",
       "      <td>NaN</td>\n",
       "      <td>NaN</td>\n",
       "      <td>NaN</td>\n",
       "      <td>NaN</td>\n",
       "      <td>NaN</td>\n",
       "      <td>NaN</td>\n",
       "      <td>NaN</td>\n",
       "      <td>NaN</td>\n",
       "    </tr>\n",
       "    <tr>\n",
       "      <th>1</th>\n",
       "      <td>01/10/2020 12:20:00</td>\n",
       "      <td>Salisbury</td>\n",
       "      <td>RH</td>\n",
       "      <td>Stiff / Galloping</td>\n",
       "      <td>5111</td>\n",
       "      <td>1760</td>\n",
       "      <td>Turf</td>\n",
       "      <td>12</td>\n",
       "      <td>4</td>\n",
       "      <td>2</td>\n",
       "      <td>...</td>\n",
       "      <td>NaN</td>\n",
       "      <td>0</td>\n",
       "      <td>NaN</td>\n",
       "      <td>NaN</td>\n",
       "      <td>NaN</td>\n",
       "      <td>NaN</td>\n",
       "      <td>NaN</td>\n",
       "      <td>NaN</td>\n",
       "      <td>NaN</td>\n",
       "      <td>NaN</td>\n",
       "    </tr>\n",
       "    <tr>\n",
       "      <th>2</th>\n",
       "      <td>01/10/2020 12:20:00</td>\n",
       "      <td>Salisbury</td>\n",
       "      <td>RH</td>\n",
       "      <td>Stiff / Galloping</td>\n",
       "      <td>5111</td>\n",
       "      <td>1760</td>\n",
       "      <td>Turf</td>\n",
       "      <td>12</td>\n",
       "      <td>4</td>\n",
       "      <td>2</td>\n",
       "      <td>...</td>\n",
       "      <td>4.0</td>\n",
       "      <td>1760</td>\n",
       "      <td>4464.0</td>\n",
       "      <td>131.0</td>\n",
       "      <td>0.0</td>\n",
       "      <td>4.0</td>\n",
       "      <td>6.2</td>\n",
       "      <td>16.0</td>\n",
       "      <td>17.0</td>\n",
       "      <td>53.0</td>\n",
       "    </tr>\n",
       "    <tr>\n",
       "      <th>3</th>\n",
       "      <td>01/10/2020 12:20:00</td>\n",
       "      <td>Salisbury</td>\n",
       "      <td>RH</td>\n",
       "      <td>Stiff / Galloping</td>\n",
       "      <td>5111</td>\n",
       "      <td>1760</td>\n",
       "      <td>Turf</td>\n",
       "      <td>12</td>\n",
       "      <td>4</td>\n",
       "      <td>2</td>\n",
       "      <td>...</td>\n",
       "      <td>5.0</td>\n",
       "      <td>1332</td>\n",
       "      <td>4075.0</td>\n",
       "      <td>131.0</td>\n",
       "      <td>0.0</td>\n",
       "      <td>11.0</td>\n",
       "      <td>30.5</td>\n",
       "      <td>33.0</td>\n",
       "      <td>34.0</td>\n",
       "      <td>23.0</td>\n",
       "    </tr>\n",
       "    <tr>\n",
       "      <th>4</th>\n",
       "      <td>01/10/2020 12:20:00</td>\n",
       "      <td>Salisbury</td>\n",
       "      <td>RH</td>\n",
       "      <td>Stiff / Galloping</td>\n",
       "      <td>5111</td>\n",
       "      <td>1760</td>\n",
       "      <td>Turf</td>\n",
       "      <td>12</td>\n",
       "      <td>4</td>\n",
       "      <td>2</td>\n",
       "      <td>...</td>\n",
       "      <td>NaN</td>\n",
       "      <td>0</td>\n",
       "      <td>NaN</td>\n",
       "      <td>NaN</td>\n",
       "      <td>NaN</td>\n",
       "      <td>NaN</td>\n",
       "      <td>NaN</td>\n",
       "      <td>NaN</td>\n",
       "      <td>NaN</td>\n",
       "      <td>NaN</td>\n",
       "    </tr>\n",
       "  </tbody>\n",
       "</table>\n",
       "<p>5 rows × 128 columns</p>\n",
       "</div>"
      ],
      "text/plain": [
       "             Race Time     Course Course Direction Course Characteristics  \\\n",
       "0  01/10/2020 12:20:00  Salisbury               RH      Stiff / Galloping   \n",
       "1  01/10/2020 12:20:00  Salisbury               RH      Stiff / Galloping   \n",
       "2  01/10/2020 12:20:00  Salisbury               RH      Stiff / Galloping   \n",
       "3  01/10/2020 12:20:00  Salisbury               RH      Stiff / Galloping   \n",
       "4  01/10/2020 12:20:00  Salisbury               RH      Stiff / Galloping   \n",
       "\n",
       "   Prize  Distance (y) Race Type  Runners  New Class No.  Min Age  ...  \\\n",
       "0   5111          1760      Turf       12              4        2  ...   \n",
       "1   5111          1760      Turf       12              4        2  ...   \n",
       "2   5111          1760      Turf       12              4        2  ...   \n",
       "3   5111          1760      Turf       12              4        2  ...   \n",
       "4   5111          1760      Turf       12              4        2  ...   \n",
       "\n",
       "   New Class LTO  Distance In Yards LTO  Value LTO Pounds LTO  \\\n",
       "0            NaN                      0        NaN        NaN   \n",
       "1            NaN                      0        NaN        NaN   \n",
       "2            4.0                   1760     4464.0      131.0   \n",
       "3            5.0                   1332     4075.0      131.0   \n",
       "4            NaN                      0        NaN        NaN   \n",
       "\n",
       "  Official Rating LTO  Position LTO  Distance To Winner LTO  \\\n",
       "0                 NaN           NaN                     NaN   \n",
       "1                 NaN           NaN                     NaN   \n",
       "2                 0.0           4.0                     6.2   \n",
       "3                 0.0          11.0                    30.5   \n",
       "4                 NaN           NaN                     NaN   \n",
       "\n",
       "   SP Odds LTO (Numerical)  SP Odds LTO (Decimcal) Speed Rating LTO  \n",
       "0                      NaN                     NaN              NaN  \n",
       "1                      NaN                     NaN              NaN  \n",
       "2                     16.0                    17.0             53.0  \n",
       "3                     33.0                    34.0             23.0  \n",
       "4                      NaN                     NaN              NaN  \n",
       "\n",
       "[5 rows x 128 columns]"
      ]
     },
     "execution_count": 3,
     "metadata": {},
     "output_type": "execute_result"
    }
   ],
   "source": [
    "data = pd.read_csv('../data/reduced_horse_data.csv')\n",
    "data.head()"
   ]
  },
  {
   "cell_type": "code",
   "execution_count": 7,
   "metadata": {},
   "outputs": [
    {
     "data": {
      "text/plain": [
       "142348"
      ]
     },
     "execution_count": 7,
     "metadata": {},
     "output_type": "execute_result"
    }
   ],
   "source": [
    "len(data)"
   ]
  },
  {
   "cell_type": "code",
   "execution_count": 4,
   "metadata": {},
   "outputs": [
    {
     "name": "stdout",
     "output_type": "stream",
     "text": [
      "Connected to the database\n",
      "Error saving DataFrame to table df1: NDFrame.to_sql() got an unexpected keyword argument 'cursor'\n"
     ]
    }
   ],
   "source": [
    "db_connector = DatabaseConnector('horse')\n",
    "\n",
    "db_connector.connect()\n",
    "\n",
    "db_connector.save_data_frame(data, 'df1')"
   ]
  },
  {
   "cell_type": "code",
   "execution_count": 5,
   "metadata": {},
   "outputs": [
    {
     "name": "stdout",
     "output_type": "stream",
     "text": [
      "Disconnected from the database\n"
     ]
    }
   ],
   "source": [
    "db_connector.disconnect()"
   ]
  },
  {
   "cell_type": "code",
   "execution_count": 6,
   "metadata": {},
   "outputs": [
    {
     "name": "stdout",
     "output_type": "stream",
     "text": [
      "Connected to the database\n",
      "Error saving DataFrame to table: Execution failed on sql '\n",
      "        SELECT\n",
      "            name\n",
      "        FROM\n",
      "            sqlite_master\n",
      "        WHERE\n",
      "            type IN ('table', 'view')\n",
      "            AND name=?;\n",
      "        ': Not all parameters were used in the SQL statement\n",
      "Disconnected from the database\n"
     ]
    },
    {
     "name": "stderr",
     "output_type": "stream",
     "text": [
      "/var/folders/nv/lzp9ffbj6cs24kjrpcj0q1ym0000gn/T/ipykernel_27999/4089712761.py:18: UserWarning: pandas only supports SQLAlchemy connectable (engine/connection) or database string URI or sqlite3 DBAPI2 connection. Other DBAPI2 objects are not tested. Please consider using SQLAlchemy.\n",
      "  data.to_sql(name='df1', con=db_connector.connection, if_exists='replace', index=False)\n"
     ]
    }
   ],
   "source": [
    "db_connector = DatabaseConnector('horse')  # Replace 'horse' with your actual database name\n",
    "db_connector.connect()\n",
    "\n",
    "# Save the DataFrame to a table named 'my_table' (if it doesn't exist, it will be created)\n",
    "try:\n",
    "    # Check if the table already exists\n",
    "    cursor = db_connector.connection.cursor()\n",
    "    cursor.execute(\"SHOW TABLES LIKE 'df1'\")\n",
    "    result = cursor.fetchone()\n",
    "\n",
    "    if not result:\n",
    "        # Table doesn't exist, create it using a separate query\n",
    "        # (consider using your DatabaseConnector's create_table_if_not_exists method)\n",
    "        create_table_query = \"CREATE TABLE df1 (col1 INT, col2 VARCHAR(255))\"\n",
    "        cursor.execute(create_table_query)\n",
    "\n",
    "    # Now save the DataFrame using pandas.to_sql\n",
    "    data.to_sql(name='df1', con=db_connector.connection, if_exists='replace', index=False)\n",
    "    print('DataFrame successfully saved to table my_table')\n",
    "except Exception as e:\n",
    "    print(f'Error saving DataFrame to table: {e}')\n",
    "\n",
    "# Close the database connection (optional, handled by the DatabaseConnector class in some cases)\n",
    "db_connector.disconnect()"
   ]
  }
 ],
 "metadata": {
  "kernelspec": {
   "display_name": "horse_trading",
   "language": "python",
   "name": "python3"
  },
  "language_info": {
   "codemirror_mode": {
    "name": "ipython",
    "version": 3
   },
   "file_extension": ".py",
   "mimetype": "text/x-python",
   "name": "python",
   "nbconvert_exporter": "python",
   "pygments_lexer": "ipython3",
   "version": "3.11.6"
  }
 },
 "nbformat": 4,
 "nbformat_minor": 2
}
