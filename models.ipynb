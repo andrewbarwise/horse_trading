{
 "cells": [
  {
   "cell_type": "code",
   "execution_count": 1,
   "metadata": {},
   "outputs": [],
   "source": [
    "import mlflow\n",
    "from sklearn.model_selection import train_test_split\n",
    "from sklearn.ensemble import RandomForestClassifier\n",
    "from sklearn.metrics import accuracy_score, precision_score, recall_score, f1_score, roc_auc_score, roc_curve\n",
    "from sklearn.preprocessing import StandardScaler\n",
    "from sklearn.linear_model import LogisticRegression\n",
    "import pandas as pd"
   ]
  },
  {
   "cell_type": "code",
   "execution_count": 2,
   "metadata": {},
   "outputs": [
    {
     "name": "stdout",
     "output_type": "stream",
     "text": [
      "Connected to the database\n",
      "Disconnected from the database\n",
      "   MyUnknownColumn            Race Time     Course  Distance (y)  Draw  \\\n",
      "0                0  2020-10-01 12:20:00  Salisbury          1760     2   \n",
      "1                1  2020-10-01 12:20:00  Salisbury          1760     9   \n",
      "2                2  2020-10-01 12:20:00  Salisbury          1760    12   \n",
      "3                3  2020-10-01 12:20:00  Salisbury          1760     8   \n",
      "4                4  2020-10-01 12:20:00  Salisbury          1760    10   \n",
      "\n",
      "   Weight Rank  Breakfast Price  Morning Price  SP Odds Decimal  \\\n",
      "0            1             10.0           11.0             13.0   \n",
      "1            1             13.0           10.0             12.0   \n",
      "2            1             11.0           11.0             17.0   \n",
      "3            1             67.0           67.0            126.0   \n",
      "4            1             21.0           19.0             21.0   \n",
      "\n",
      "   Won (1=Won, 0=Lost)  Place (1=Placed, 0=UnPlaced)  Trainer/Jky Stats Rank  \\\n",
      "0                    0                             1                       1   \n",
      "1                    1                             0                      12   \n",
      "2                    0                             0                       8   \n",
      "3                    0                             0                       9   \n",
      "4                    0                             0                       3   \n",
      "\n",
      "   WON SR Before  Position LTO  Horse Stats Rank  Proform Speed Rating  \\\n",
      "0            0.0           0.0                 1                    61   \n",
      "1            0.0           0.0                 1                    61   \n",
      "2            0.0           4.0                 9                    51   \n",
      "3            0.0          11.0                 7                    41   \n",
      "4            0.0           0.0                 1                    37   \n",
      "\n",
      "   WON SR Before_[0]                      unique_id  unique_id_int  \n",
      "0                0.0  2020-10-01 12:20:00_Salisbury              0  \n",
      "1                0.0  2020-10-01 12:20:00_Salisbury              0  \n",
      "2                0.0  2020-10-01 12:20:00_Salisbury              0  \n",
      "3                0.0  2020-10-01 12:20:00_Salisbury              0  \n",
      "4                0.0  2020-10-01 12:20:00_Salisbury              0  \n"
     ]
    }
   ],
   "source": [
    "from src.db_connection import DatabaseConnector\n",
    "\n",
    "db_connector = DatabaseConnector('horse')\n",
    "\n",
    "db_connector.connect()\n",
    "\n",
    "query = \"select * from df1\"\n",
    "\n",
    "df = db_connector.fetch_data(query)\n",
    "\n",
    "db_connector.disconnect()\n",
    "\n",
    "if df is not None:\n",
    "    print(df.head())"
   ]
  },
  {
   "cell_type": "code",
   "execution_count": 3,
   "metadata": {},
   "outputs": [],
   "source": [
    "data = df\n",
    "\n",
    "# Convert date column to Timestamp if it's not already\n",
    "data['Race Time'] = pd.to_datetime(data['Race Time'])\n",
    "\n",
    "# Determine the splitting point based on a specific date\n",
    "split_date = pd.to_datetime('2021-10-01')  # Replace with your desired date\n",
    "\n",
    "# Split the data into training and testing based on the date\n",
    "train_data = data[data['Race Time'] < split_date]\n",
    "test_data = data[data['Race Time'] >= split_date]\n",
    "\n",
    "# Extract features and target variable for training and testing sets\n",
    "train_features = train_data[['Draw', 'Weight Rank', 'SP Odds Decimal', 'Horse Stats Rank']]\n",
    "train_target = train_data['Won (1=Won, 0=Lost)']\n",
    "\n",
    "test_features = test_data[['Draw', 'Weight Rank', 'SP Odds Decimal', 'Horse Stats Rank']]\n",
    "test_target = test_data['Won (1=Won, 0=Lost)']\n",
    "\n",
    "# Initialize StandardScaler()\n",
    "scaler = StandardScaler()\n",
    "\n",
    "# Fit and and transform\n",
    "scaled_train_features = scaler.fit_transform(train_features)\n",
    "scaled_test_features = scaler.transform(test_features)"
   ]
  },
  {
   "cell_type": "code",
   "execution_count": 4,
   "metadata": {},
   "outputs": [
    {
     "name": "stdout",
     "output_type": "stream",
     "text": [
      "Model Accuracy: 0.8806796382570568\n",
      "Precision: 0.2802325581395349\n",
      "Recall: 0.1339633129516398\n",
      "F1 Score: 0.18127115456938697\n",
      "ROC AUC Score: 0.5481624907212291\n"
     ]
    }
   ],
   "source": [
    "# Initialize the Random Forest Classifier (you can choose other classifiers as well)\n",
    "clf = RandomForestClassifier()\n",
    "\n",
    "# Train the model using the training data\n",
    "clf.fit(scaled_train_features, train_target)\n",
    "\n",
    "# Make predictions on the test set\n",
    "predictions = clf.predict(scaled_test_features)\n",
    "\n",
    "# Evaluate the model\n",
    "accuracy = accuracy_score(test_target, predictions)\n",
    "precision = precision_score(test_target, predictions)\n",
    "recall = recall_score(test_target, predictions)\n",
    "f1 = f1_score(test_target, predictions)\n",
    "roc_auc = roc_auc_score(test_target, predictions)\n",
    "\n",
    "print(f\"Model Accuracy: {accuracy}\")\n",
    "print(f\"Precision: {precision}\")\n",
    "print(f\"Recall: {recall}\")\n",
    "print(f\"F1 Score: {f1}\")\n",
    "print(f\"ROC AUC Score: {roc_auc}\")"
   ]
  },
  {
   "cell_type": "code",
   "execution_count": 5,
   "metadata": {},
   "outputs": [
    {
     "name": "stdout",
     "output_type": "stream",
     "text": [
      "Accuracy: 0.9026034530008221\n",
      "Precision: 0.5544554455445545\n",
      "Recall: 0.0622568093385214\n",
      "F1 Score: 0.111944027986007\n",
      "ROC AUC Score: 0.5283921770151199\n"
     ]
    }
   ],
   "source": [
    "import xgboost as xgb\n",
    "from sklearn.metrics import accuracy_score\n",
    "\n",
    "\n",
    "# Initialize XGBoost Classifier\n",
    "xgb_model = xgb.XGBClassifier(objective='binary:logistic', eval_metric='logloss', random_state=42)\n",
    "\n",
    "# Fit the model using the scaled training features and target\n",
    "xgb_model.fit(scaled_train_features, train_target)\n",
    "\n",
    "# Make predictions on the scaled test features\n",
    "y_pred = xgb_model.predict(scaled_test_features)\n",
    "\n",
    "# Evaluate accuracy\n",
    "accuracy = accuracy_score(test_target, y_pred)\n",
    "precision = precision_score(test_target, y_pred)\n",
    "recall = recall_score(test_target, y_pred)\n",
    "f1 = f1_score(test_target, y_pred)\n",
    "roc_auc = roc_auc_score(test_target, y_pred)\n",
    "\n",
    "print(f\"Accuracy: {accuracy}\")\n",
    "print(f\"Precision: {precision}\")\n",
    "print(f\"Recall: {recall}\")\n",
    "print(f\"F1 Score: {f1}\")\n",
    "print(f\"ROC AUC Score: {roc_auc}\")\n"
   ]
  }
 ],
 "metadata": {
  "kernelspec": {
   "display_name": "horse_trading",
   "language": "python",
   "name": "python3"
  },
  "language_info": {
   "codemirror_mode": {
    "name": "ipython",
    "version": 3
   },
   "file_extension": ".py",
   "mimetype": "text/x-python",
   "name": "python",
   "nbconvert_exporter": "python",
   "pygments_lexer": "ipython3",
   "version": "3.11.6"
  }
 },
 "nbformat": 4,
 "nbformat_minor": 2
}
